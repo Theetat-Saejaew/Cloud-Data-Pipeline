{
  "nbformat": 4,
  "nbformat_minor": 0,
  "metadata": {
    "colab": {
      "name": "สำเนาของ [Start] R2DE2 WS2 - Data Cleansing with Spark",
      "provenance": [],
      "collapsed_sections": [],
      "toc_visible": true,
      "include_colab_link": true
    },
    "kernelspec": {
      "display_name": "Python 3",
      "name": "python3"
    }
  },
  "cells": [
    {
      "cell_type": "markdown",
      "metadata": {
        "id": "view-in-github",
        "colab_type": "text"
      },
      "source": [
        "<a href=\"https://colab.research.google.com/github/Theetat-Saejaew/Cloud-Data-Pipeline/blob/main/%E0%B8%AA%E0%B8%B3%E0%B9%80%E0%B8%99%E0%B8%B2%E0%B8%82%E0%B8%AD%E0%B8%87_%5BStart%5D_R2DE2_WS2_Data_Cleansing_with_Spark.ipynb\" target=\"_parent\"><img src=\"https://colab.research.google.com/assets/colab-badge.svg\" alt=\"Open In Colab\"/></a>"
      ]
    },
    {
      "cell_type": "markdown",
      "metadata": {
        "id": "HFKfSj8ZyWyd"
      },
      "source": [
        "# สำคัญ: ถ้าคุณเปิดไฟล์นี้จากลิงค์ในบทเรียนบนเว็บไซต์\n",
        "\n",
        "# กรุณากด File > Save a Copy in Drive เพื่อก็อปปี้ไฟล์นี้ไปก่อน\n",
        "\n",
        "---\n",
        "\n"
      ]
    },
    {
      "cell_type": "markdown",
      "metadata": {
        "id": "_SQc75fHqX85"
      },
      "source": [
        "# Workshop 2: Data Cleansing with Spark"
      ]
    },
    {
      "cell_type": "markdown",
      "metadata": {
        "id": "VnxzvnOmsN-X"
      },
      "source": [
        "ภาพรวมของคอร์สนี้\n",
        "\n",
        "![alt text](https://cdn-std.droplr.net/files/acc_513973/z7Gqhs)\n",
        "\n",
        "Workshop 2 นี้เราจะทำอะไรกันบ้าง\n",
        "\n",
        "![alt text](https://cdn-std.droplr.net/files/acc_513973/SCN8wh)\n",
        "\n",
        "![](https://file.designil.com/4Cc26a+)"
      ]
    },
    {
      "cell_type": "markdown",
      "metadata": {
        "id": "H86b_xW2tAo9"
      },
      "source": [
        "## ลิงค์ดีมีประโยชน์\n",
        "\n",
        "### 1. หน้าเว็บไซต์รวมคำสั่งทั้งหมดของ PySpark\n",
        "\n",
        "หน้าเว็บไซต์นี้อัพเดทข้อมูลโดยทีมงาน Apache Spark พร้อมวิธีใช้ และคำอธิบายค่าต่าง ๆ ที่คำสั่งนั้นสามารถรับได้ สามารถค้นหาคำสั่งที่ต้องการได้ด้วย\n",
        "\n",
        "https://spark.apache.org/docs/latest/api/python/reference/index.html\n",
        "\n",
        "### 2. [ภาษาอังกฤษ] Spark Cheatsheet by DataCamp \n",
        "\n",
        "รวมคำสั่ง Spark\n",
        "\n",
        "**RDD:**\n",
        "https://www.datacamp.com/community/blog/pyspark-cheat-sheet-python \n",
        "\n",
        "**DataFrame:**\n",
        "https://www.datacamp.com/community/blog/pyspark-sql-cheat-sheet\n",
        "\n",
        "### 3. [ภาษาไทย] Spark Cheatsheet by DataTH\n",
        "\n",
        "รวมคำสั่ง Spark พร้อมตัวอย่างโค้ด และคำอธิบายภาษาไทย\n",
        "\n",
        "https://blog.datath.com/cheatsheet-pyspark/"
      ]
    },
    {
      "cell_type": "markdown",
      "metadata": {
        "id": "j8fv4Fl2yqXJ"
      },
      "source": [
        "\n",
        "---\n"
      ]
    },
    {
      "cell_type": "markdown",
      "metadata": {
        "id": "0l1rCEL01qMW"
      },
      "source": [
        "# มาเริ่ม Workshop 2 กันเลย\n",
        "\n",
        "![](https://file.designil.com/VrNxQe+)"
      ]
    },
    {
      "cell_type": "markdown",
      "metadata": {
        "id": "hZ06tCiTn7z9"
      },
      "source": [
        "# Step 1) ติดตั้ง Spark และ PySpark\n",
        "\n",
        "Google Colab เป็นเครื่องมือสำหรับรันคำสั่ง Python และ Bash บนคอมพิวเตอร์จำลองที่ Google เตรียมไว้ให้เรา\n",
        "\n",
        "คอมพิวเตอร์จำลองนี้เรียกว่า Virtual Machine (VM)"
      ]
    },
    {
      "cell_type": "code",
      "metadata": {
        "id": "3SV-YTNRpMKy"
      },
      "source": [
        "!apt-get update                                                                          # อัพเดท Package ทั้งหมดใน VM ตัวนี้\n",
        "!apt-get install openjdk-8-jdk-headless -qq > /dev/null                                  # ติดตั้ง Java Development Kit (จำเป็นสำหรับการติดตั้ง Spark)\n",
        "!wget -q https://archive.apache.org/dist/spark/spark-3.1.2/spark-3.1.2-bin-hadoop2.7.tgz # ติดตั้ง Spark 3.1.2\n",
        "!tar xzvf spark-3.1.2-bin-hadoop2.7.tgz                                                  # Unzip ไฟล์ Spark 3.1.2\n",
        "!pip install -q findspark==1.3.0                                                         # ติดตั้ง Package Python สำหรับเชื่อมต่อกับ Spark "
      ],
      "execution_count": null,
      "outputs": []
    },
    {
      "cell_type": "code",
      "metadata": {
        "id": "6Dwpn8wv9lgO"
      },
      "source": [
        "# Set enviroment variable ให้ Python รู้จัก Spark\n",
        "import os\n",
        "os.environ[\"JAVA_HOME\"] = \"/usr/lib/jvm/java-8-openjdk-amd64\"\n",
        "os.environ[\"SPARK_HOME\"] = \"/content/spark-3.1.2-bin-hadoop2.7\""
      ],
      "execution_count": null,
      "outputs": []
    },
    {
      "cell_type": "code",
      "metadata": {
        "id": "qHNIVIS8ygwc",
        "colab": {
          "base_uri": "https://localhost:8080/"
        },
        "outputId": "0b4ee379-24f7-4022-c35b-235f96d216ba"
      },
      "source": [
        "# ติดตั้ง PySpark ลงใน Python\n",
        "!pip install pyspark==3.1.2"
      ],
      "execution_count": null,
      "outputs": [
        {
          "output_type": "stream",
          "name": "stdout",
          "text": [
            "Collecting pyspark==3.1.2\n",
            "  Downloading pyspark-3.1.2.tar.gz (212.4 MB)\n",
            "\u001b[K     |████████████████████████████████| 212.4 MB 68 kB/s \n",
            "\u001b[?25hCollecting py4j==0.10.9\n",
            "  Downloading py4j-0.10.9-py2.py3-none-any.whl (198 kB)\n",
            "\u001b[K     |████████████████████████████████| 198 kB 47.2 MB/s \n",
            "\u001b[?25hBuilding wheels for collected packages: pyspark\n",
            "  Building wheel for pyspark (setup.py) ... \u001b[?25l\u001b[?25hdone\n",
            "  Created wheel for pyspark: filename=pyspark-3.1.2-py2.py3-none-any.whl size=212880769 sha256=1a361ee998e8037b0d492a27cbe38af4ca5635e237ce8df60f1b4d5c117869fd\n",
            "  Stored in directory: /root/.cache/pip/wheels/a5/0a/c1/9561f6fecb759579a7d863dcd846daaa95f598744e71b02c77\n",
            "Successfully built pyspark\n",
            "Installing collected packages: py4j, pyspark\n",
            "Successfully installed py4j-0.10.9 pyspark-3.1.2\n"
          ]
        }
      ]
    },
    {
      "cell_type": "markdown",
      "metadata": {
        "id": "2aX_fiEkrkVo"
      },
      "source": [
        "## ใช้งาน Spark"
      ]
    },
    {
      "cell_type": "code",
      "metadata": {
        "id": "ASZqLPXDPJJB"
      },
      "source": [
        "# Server ของ Google Colab มีกี่ Core\n",
        "!cat /proc/cpuinfo"
      ],
      "execution_count": null,
      "outputs": []
    },
    {
      "cell_type": "markdown",
      "metadata": {
        "id": "XOC1AgcQwRz1"
      },
      "source": [
        "ใช้ `local[*]` เพื่อเปิดการใช้งานการประมวลผลแบบ multi-core (Spark จะใช้ CPU ทุก core ที่อนุญาตให้ใช้งานในเครื่อง)"
      ]
    },
    {
      "cell_type": "code",
      "metadata": {
        "id": "e6-PYi44nH2e"
      },
      "source": [
        "# สร้าง Spark Session เพิ้อใช้งาน Spark\n",
        "from pyspark.sql import SparkSession\n",
        "spark = SparkSession.builder.master(\"local[*]\").getOrCreate()"
      ],
      "execution_count": null,
      "outputs": []
    },
    {
      "cell_type": "code",
      "metadata": {
        "id": "c8Fuuh_8ocdw",
        "colab": {
          "base_uri": "https://localhost:8080/"
        },
        "outputId": "de7c28d2-ef0f-4b40-cd9e-ec4fb606ae2d"
      },
      "source": [
        "# ดูเวอร์ชั่น Python\n",
        "import sys\n",
        "sys.version_info"
      ],
      "execution_count": null,
      "outputs": [
        {
          "output_type": "execute_result",
          "data": {
            "text/plain": [
              "sys.version_info(major=3, minor=7, micro=12, releaselevel='final', serial=0)"
            ]
          },
          "metadata": {},
          "execution_count": 6
        }
      ]
    },
    {
      "cell_type": "code",
      "metadata": {
        "id": "obpcIPP4oOvk",
        "colab": {
          "base_uri": "https://localhost:8080/",
          "height": 36
        },
        "outputId": "bd09bb2d-b891-41a9-e37e-5444d6bee13c"
      },
      "source": [
        "# ดูเวอร์ชั่น Spark\n",
        "spark.version"
      ],
      "execution_count": null,
      "outputs": [
        {
          "output_type": "execute_result",
          "data": {
            "application/vnd.google.colaboratory.intrinsic+json": {
              "type": "string"
            },
            "text/plain": [
              "'3.1.2'"
            ]
          },
          "metadata": {},
          "execution_count": 7
        }
      ]
    },
    {
      "cell_type": "markdown",
      "metadata": {
        "id": "7t8xQWVEi7tU"
      },
      "source": [
        "## Load Workshop 2 Data"
      ]
    },
    {
      "cell_type": "markdown",
      "metadata": {
        "id": "48EFzlQd-FET"
      },
      "source": [
        "คำอธิบายคำสั่ง:\n",
        "\n",
        "wget = คำสั่งในการดาวน์โหลดไฟล์\n",
        "\n",
        "wget -O = ตั้งชื่อไฟล์"
      ]
    },
    {
      "cell_type": "code",
      "metadata": {
        "id": "2a0K_ljDi-r5",
        "colab": {
          "base_uri": "https://localhost:8080/"
        },
        "outputId": "45590b5e-41c1-4dfa-d2c3-bffdd60c2008"
      },
      "source": [
        "# Download Data File\n",
        "!wget -O data.zip https://file.designil.com/zdOfUE+\n",
        "!unzip data.zip"
      ],
      "execution_count": null,
      "outputs": [
        {
          "output_type": "stream",
          "name": "stdout",
          "text": [
            "--2022-03-08 08:10:34--  https://file.designil.com/zdOfUE+\n",
            "Resolving file.designil.com (file.designil.com)... 172.67.130.97, 104.21.8.81, 2606:4700:3031::6815:851, ...\n",
            "Connecting to file.designil.com (file.designil.com)|172.67.130.97|:443... connected.\n",
            "HTTP request sent, awaiting response... 302 Found\n",
            "Location: https://cdn-std.droplr.net/files/acc_513973/zdOfUE [following]\n",
            "--2022-03-08 08:10:35--  https://cdn-std.droplr.net/files/acc_513973/zdOfUE\n",
            "Resolving cdn-std.droplr.net (cdn-std.droplr.net)... 13.226.219.43, 13.226.219.71, 13.226.219.82, ...\n",
            "Connecting to cdn-std.droplr.net (cdn-std.droplr.net)|13.226.219.43|:443... connected.\n",
            "HTTP request sent, awaiting response... 200 OK\n",
            "Length: 6704411 (6.4M) [application/zip]\n",
            "Saving to: ‘data.zip’\n",
            "\n",
            "data.zip            100%[===================>]   6.39M  39.3MB/s    in 0.2s    \n",
            "\n",
            "2022-03-08 08:10:35 (39.3 MB/s) - ‘data.zip’ saved [6704411/6704411]\n",
            "\n",
            "Archive:  data.zip\n",
            "  inflating: ws2_data.csv            \n"
          ]
        }
      ]
    },
    {
      "cell_type": "markdown",
      "metadata": {
        "id": "_Pn2zW6xqrtY"
      },
      "source": [
        "### Load data ใส่ Spark\n",
        "\n",
        "ใช้คำสั่ง `spark.read.csv` เพื่ออ่านข้อมูลจากไฟล์ CSV\n",
        "\n",
        "Arguments:\n",
        "\n",
        "Header = True << บอกให้ Spark รู้ว่าบรรทัดแรกในไฟล์ CSV เป็น Header\n",
        "\n",
        "Inferschema = True << บอกให้ Spark พยายามเดาว่าแต่ละ column มี type เป็นอะไร [ ถ้าตั้งเป็น False, ทุก column จะถูกอ่านเป็น string (ตัวหนังสือ) ]\n",
        "\n",
        "Reference: https://spark.apache.org/docs/latest/api/python/reference/api/pyspark.sql.DataFrameReader.csv.html"
      ]
    },
    {
      "cell_type": "code",
      "metadata": {
        "id": "8Ho4MvryoY9u"
      },
      "source": [
        "dt = spark.read.csv('/content/ws2_data.csv', header = True, inferSchema = True, )"
      ],
      "execution_count": null,
      "outputs": []
    },
    {
      "cell_type": "markdown",
      "metadata": {
        "id": "tXRH_sPL17sL"
      },
      "source": [
        "---\n",
        "\n",
        "![](https://file.designil.com/2c6qGS+)"
      ]
    },
    {
      "cell_type": "markdown",
      "metadata": {
        "id": "gKBjHvpzTM6-"
      },
      "source": [
        "# Step 2) Data Profiling"
      ]
    },
    {
      "cell_type": "markdown",
      "metadata": {
        "id": "ruTiAh69nkWT"
      },
      "source": [
        "Data Profiling เป็นการทำความเข้าใจข้อมูลเบื้องต้น เพื่อที่เราจะได้รู้ว่าข้อมูลนี้มีคอลัมน์ไหนบ้าง ค่าโดยรวมเป็นอย่างไรบ้าง ฯลฯ เพื่อให้เราตัดสินใจได้ต่อว่าจะเช็คที่จุดไหนต่อไป\n",
        "\n",
        "ตัวอย่าง: max, min, average, sum, มี missing value มั้ย ฯลฯ"
      ]
    },
    {
      "cell_type": "code",
      "metadata": {
        "id": "qpb7PcpSrOWe",
        "colab": {
          "base_uri": "https://localhost:8080/"
        },
        "outputId": "a6a7a5bb-166e-461c-e7fa-80254fddb185"
      },
      "source": [
        "# ดูว่ามีคอลัมน์อะไรบ้าง\n",
        "dt"
      ],
      "execution_count": null,
      "outputs": [
        {
          "output_type": "execute_result",
          "data": {
            "text/plain": [
              "DataFrame[timestamp: string, user_id: string, book_id: int, country: string, price: double]"
            ]
          },
          "metadata": {},
          "execution_count": 10
        }
      ]
    },
    {
      "cell_type": "markdown",
      "metadata": {
        "id": "Qpp8rs5mrcjo"
      },
      "source": [
        "> Columns:\n",
        "1. timestamp\n",
        "2. user_id\n",
        "3. book_id\n",
        "4. country\n",
        "5. price"
      ]
    },
    {
      "cell_type": "code",
      "metadata": {
        "id": "7rEzUAWCS3Gd",
        "colab": {
          "base_uri": "https://localhost:8080/"
        },
        "outputId": "7fe22aba-b9a3-4c02-d950-dbed4139785f"
      },
      "source": [
        "# ดูข้อมูล\n",
        "dt.show()"
      ],
      "execution_count": null,
      "outputs": [
        {
          "output_type": "stream",
          "name": "stdout",
          "text": [
            "+-------------------+--------+-------+--------------------+-----+\n",
            "|          timestamp| user_id|book_id|             country|price|\n",
            "+-------------------+--------+-------+--------------------+-----+\n",
            "|2021-05-01 08:03:44|824dc295|      2|              Israel|24.95|\n",
            "|2021-05-02 02:48:34|f80fe106|      6|            Thailand|31.49|\n",
            "|2021-05-01 16:54:57|01cb9fe0|      9|               Italy|29.65|\n",
            "|2021-05-01 21:45:28|59508f47|     13|        South Africa| 22.4|\n",
            "|2021-05-01 14:50:52|3553ebbb|     14|              Canada| 28.0|\n",
            "|2021-05-01 08:41:48|ea28260a|     16|United States of ...|31.18|\n",
            "|2021-05-01 05:51:43|ff44767e|     18|United States of ...|59.99|\n",
            "|2021-05-01 00:01:09|b07799e7|     20|              Canada| 28.0|\n",
            "|2021-05-01 00:21:24|9d2e93c8|     20|             Hungary| 28.0|\n",
            "|2021-05-01 01:34:23|612db483|     20|              Sweden| 28.0|\n",
            "|2021-05-01 01:42:10|afad01ae|     20|              France| 28.0|\n",
            "|2021-05-01 03:38:00|3b68cda1|     20|              Canada| 28.0|\n",
            "|2021-05-01 04:32:25|c9a899f6|     20|United States of ...| 28.0|\n",
            "|2021-05-01 04:48:06|d15f0e77|     20|United States of ...| 28.0|\n",
            "|2021-05-01 05:00:49|032e717b|     20|              Turkey| 28.0|\n",
            "|2021-05-01 06:20:44|a8558738|     20|United States of ...| 28.0|\n",
            "|2021-05-01 06:46:35|b0ef795f|     20|         Philippines| 28.0|\n",
            "|2021-05-01 07:33:54|c46cc3da|     20|United States of ...| 28.0|\n",
            "|2021-05-01 09:14:11|54bd51eb|     20|              Brazil| 28.0|\n",
            "|2021-05-01 10:01:44|c52587cc|     20|              Canada| 28.0|\n",
            "+-------------------+--------+-------+--------------------+-----+\n",
            "only showing top 20 rows\n",
            "\n"
          ]
        }
      ]
    },
    {
      "cell_type": "code",
      "metadata": {
        "id": "XOgygtSZUenr"
      },
      "source": [
        "# ดูข้อมูล 100 แถวแรก\n",
        "dt.show(100)"
      ],
      "execution_count": null,
      "outputs": []
    },
    {
      "cell_type": "code",
      "metadata": {
        "id": "-hfU4p2sCuef",
        "colab": {
          "base_uri": "https://localhost:8080/"
        },
        "outputId": "6c4aa75a-f8ab-4a6f-9302-1fa4b70fdd0c"
      },
      "source": [
        "# ดูประเภทข้อมูลแต่ละคอลัมน์\n",
        "dt.dtypes"
      ],
      "execution_count": null,
      "outputs": [
        {
          "output_type": "execute_result",
          "data": {
            "text/plain": [
              "[('timestamp', 'string'),\n",
              " ('user_id', 'string'),\n",
              " ('book_id', 'int'),\n",
              " ('country', 'string'),\n",
              " ('price', 'double')]"
            ]
          },
          "metadata": {},
          "execution_count": 13
        }
      ]
    },
    {
      "cell_type": "code",
      "metadata": {
        "id": "Er9ltLyoCJxo",
        "colab": {
          "base_uri": "https://localhost:8080/"
        },
        "outputId": "d2c79804-0afd-4386-d896-09a6c0bd2405"
      },
      "source": [
        "# อีกคำสั่งในการดูข้อมูลแต่ละคอลัมน์ (Schema)\n",
        "dt.printSchema()"
      ],
      "execution_count": null,
      "outputs": [
        {
          "output_type": "stream",
          "name": "stdout",
          "text": [
            "root\n",
            " |-- timestamp: string (nullable = true)\n",
            " |-- user_id: string (nullable = true)\n",
            " |-- book_id: integer (nullable = true)\n",
            " |-- country: string (nullable = true)\n",
            " |-- price: double (nullable = true)\n",
            "\n"
          ]
        }
      ]
    },
    {
      "cell_type": "markdown",
      "metadata": {
        "id": "Uu34YbPnnCuL"
      },
      "source": [
        "nullable คือ ค่าสามารถเป็น null ได้\n",
        "\n",
        "\n",
        "\n"
      ]
    },
    {
      "cell_type": "code",
      "metadata": {
        "id": "brQdwlRpCVSi"
      },
      "source": [
        "# นับจำนวนแถวและ column\n",
        "print((dt.count(), len(dt.columns)))"
      ],
      "execution_count": null,
      "outputs": []
    },
    {
      "cell_type": "code",
      "metadata": {
        "id": "hZ9V4iQKUi2i"
      },
      "source": [
        "# สรุปข้อมูลสถิติ\n",
        "dt.describe().show()"
      ],
      "execution_count": null,
      "outputs": []
    },
    {
      "cell_type": "code",
      "metadata": {
        "id": "DJ7xtdKgVvKO",
        "colab": {
          "base_uri": "https://localhost:8080/"
        },
        "outputId": "2f32e53c-454f-4e96-c7b8-5e209f782b4a"
      },
      "source": [
        "# อีกคำสั่งในการสรุปข้อมูลสถิติ\n",
        "# ReferenceL: https://spark.apache.org/docs/latest/api/python/reference/api/pyspark.sql.DataFrame.summary.html\n",
        "\n",
        "dt.summary().show()"
      ],
      "execution_count": null,
      "outputs": [
        {
          "output_type": "stream",
          "name": "stdout",
          "text": [
            "+-------+-------------------+-----------+-----------------+-------+------------------+\n",
            "|summary|          timestamp|    user_id|          book_id|country|             price|\n",
            "+-------+-------------------+-----------+-----------------+-------+------------------+\n",
            "|  count|             500000|     499998|           500000| 500000|            500000|\n",
            "|   mean|               null|   Infinity|       740.377786|   null|31.459311680039008|\n",
            "| stddev|               null|        NaN|559.9366172146341|   null|10.945931459891705|\n",
            "|    min|2021-05-01 00:00:04|   00000f49|                1|Algeria|               0.0|\n",
            "|    25%|               null|2.4050123E7|              262|   null|             24.95|\n",
            "|    50%|               null|  7.04742E7|              614|   null|             29.99|\n",
            "|    75%|               null|  5.5726E81|             1217|   null|             34.99|\n",
            "|    max|2021-07-31 23:59:55|   ffffe3e7|             2269|  Yemen|              84.0|\n",
            "+-------+-------------------+-----------+-----------------+-------+------------------+\n",
            "\n"
          ]
        }
      ]
    },
    {
      "cell_type": "code",
      "metadata": {
        "id": "LBmjzCqjM_MR"
      },
      "source": [
        "# สรุปข้อมูลสถิติเฉพาะ column ที่ระบุ\n",
        "dt.select(\"price\").describe().show()"
      ],
      "execution_count": null,
      "outputs": []
    },
    {
      "cell_type": "markdown",
      "metadata": {
        "id": "g7gUknDUB8Wj"
      },
      "source": [
        "### Exercise 1\n",
        "\n",
        "คอลัมน์ไหนมี Missing Value บ้าง? และแสดงข้อมูลแถวที่มี Missing Value ให้ดูหน่อย\n",
        "\n"
      ]
    },
    {
      "cell_type": "code",
      "metadata": {
        "id": "hLnRRd2MrvAl",
        "colab": {
          "base_uri": "https://localhost:8080/"
        },
        "outputId": "c05f72f9-dc28-43ee-a45c-6a6f39e2af8b"
      },
      "source": [
        "# Answer here\n",
        "dt.summary('count').show()\n"
      ],
      "execution_count": null,
      "outputs": [
        {
          "output_type": "stream",
          "name": "stdout",
          "text": [
            "+-------+---------+-------+-------+-------+------+\n",
            "|summary|timestamp|user_id|book_id|country| price|\n",
            "+-------+---------+-------+-------+-------+------+\n",
            "|  count|   500000| 499998| 500000| 500000|500000|\n",
            "+-------+---------+-------+-------+-------+------+\n",
            "\n"
          ]
        }
      ]
    },
    {
      "cell_type": "code",
      "source": [
        "dt.where(dt.user_id.isNull()).show()"
      ],
      "metadata": {
        "colab": {
          "base_uri": "https://localhost:8080/"
        },
        "id": "sem0hullpdRe",
        "outputId": "b1b738af-cd07-4410-9808-324fb799ae65"
      },
      "execution_count": null,
      "outputs": [
        {
          "output_type": "stream",
          "name": "stdout",
          "text": [
            "+-------------------+-------+-------+-------+-----+\n",
            "|          timestamp|user_id|book_id|country|price|\n",
            "+-------------------+-------+-------+-------+-----+\n",
            "|2021-05-01 14:41:20|   null|    516| Brazil|27.37|\n",
            "|2021-06-30 02:27:00|   null|   1390|  Japan|27.99|\n",
            "+-------------------+-------+-------+-------+-----+\n",
            "\n"
          ]
        }
      ]
    },
    {
      "cell_type": "markdown",
      "metadata": {
        "id": "bP9xaB8k2BZs"
      },
      "source": [
        "---\n",
        "\n",
        "![](https://file.designil.com/D9H1d3+)"
      ]
    },
    {
      "cell_type": "markdown",
      "metadata": {
        "id": "qe1VrTpETgar"
      },
      "source": [
        "# Step 3) EDA - Exploratory Data Analysis"
      ]
    },
    {
      "cell_type": "markdown",
      "metadata": {
        "id": "LRmig4MaQm2s"
      },
      "source": [
        "## Non-Graphical EDA\n",
        "\n",
        "เราสามารถใช้คำสั่ง Spark ในการค้นหาข้อมูลที่ต้องการได้"
      ]
    },
    {
      "cell_type": "code",
      "metadata": {
        "id": "AGkcJ3kDQmJ5",
        "colab": {
          "base_uri": "https://localhost:8080/"
        },
        "outputId": "0953f462-e403-4c54-9bcf-616a9d1e6ca6"
      },
      "source": [
        "# ข้อมูลที่เป็นตัวเลข\n",
        "dt.where(dt.price >= 1).show()"
      ],
      "execution_count": null,
      "outputs": [
        {
          "output_type": "stream",
          "name": "stdout",
          "text": [
            "+-------------------+--------+-------+--------------------+-----+\n",
            "|          timestamp| user_id|book_id|             country|price|\n",
            "+-------------------+--------+-------+--------------------+-----+\n",
            "|2021-05-01 08:03:44|824dc295|      2|              Israel|24.95|\n",
            "|2021-05-02 02:48:34|f80fe106|      6|            Thailand|31.49|\n",
            "|2021-05-01 16:54:57|01cb9fe0|      9|               Italy|29.65|\n",
            "|2021-05-01 21:45:28|59508f47|     13|        South Africa| 22.4|\n",
            "|2021-05-01 14:50:52|3553ebbb|     14|              Canada| 28.0|\n",
            "|2021-05-01 08:41:48|ea28260a|     16|United States of ...|31.18|\n",
            "|2021-05-01 05:51:43|ff44767e|     18|United States of ...|59.99|\n",
            "|2021-05-01 00:01:09|b07799e7|     20|              Canada| 28.0|\n",
            "|2021-05-01 00:21:24|9d2e93c8|     20|             Hungary| 28.0|\n",
            "|2021-05-01 01:34:23|612db483|     20|              Sweden| 28.0|\n",
            "|2021-05-01 01:42:10|afad01ae|     20|              France| 28.0|\n",
            "|2021-05-01 03:38:00|3b68cda1|     20|              Canada| 28.0|\n",
            "|2021-05-01 04:32:25|c9a899f6|     20|United States of ...| 28.0|\n",
            "|2021-05-01 04:48:06|d15f0e77|     20|United States of ...| 28.0|\n",
            "|2021-05-01 05:00:49|032e717b|     20|              Turkey| 28.0|\n",
            "|2021-05-01 06:20:44|a8558738|     20|United States of ...| 28.0|\n",
            "|2021-05-01 06:46:35|b0ef795f|     20|         Philippines| 28.0|\n",
            "|2021-05-01 07:33:54|c46cc3da|     20|United States of ...| 28.0|\n",
            "|2021-05-01 09:14:11|54bd51eb|     20|              Brazil| 28.0|\n",
            "|2021-05-01 10:01:44|c52587cc|     20|              Canada| 28.0|\n",
            "+-------------------+--------+-------+--------------------+-----+\n",
            "only showing top 20 rows\n",
            "\n"
          ]
        }
      ]
    },
    {
      "cell_type": "code",
      "metadata": {
        "id": "ccWQBqMXxd2O",
        "colab": {
          "base_uri": "https://localhost:8080/"
        },
        "outputId": "106eafb5-0356-4614-93df-a4151e766eed"
      },
      "source": [
        "# ข้อมูลที่เป็นตัวหนังสือ\n",
        "dt.where(dt.country == 'Canada').show()"
      ],
      "execution_count": null,
      "outputs": [
        {
          "output_type": "stream",
          "name": "stdout",
          "text": [
            "+-------------------+--------+-------+-------+-----+\n",
            "|          timestamp| user_id|book_id|country|price|\n",
            "+-------------------+--------+-------+-------+-----+\n",
            "|2021-05-01 14:50:52|3553ebbb|     14| Canada| 28.0|\n",
            "|2021-05-01 00:01:09|b07799e7|     20| Canada| 28.0|\n",
            "|2021-05-01 03:38:00|3b68cda1|     20| Canada| 28.0|\n",
            "|2021-05-01 10:01:44|c52587cc|     20| Canada| 28.0|\n",
            "|2021-05-01 23:49:22|bfdfeeaf|     25| Canada|29.99|\n",
            "|2021-05-01 14:59:03|29d98481|     30| Canada|14.95|\n",
            "|2021-05-01 09:09:40|3668f113|     32| Canada|27.37|\n",
            "|2021-05-01 18:46:21|1560dd3c|     33| Canada| 28.0|\n",
            "|2021-05-01 09:47:19|96908d0d|     36| Canada|23.95|\n",
            "|2021-05-01 14:57:06|a708a1be|     36| Canada|23.95|\n",
            "|2021-05-01 15:05:55|1c489ab0|     36| Canada|23.95|\n",
            "|2021-05-01 19:37:02|f9fa4aa7|     36| Canada|23.95|\n",
            "|2021-05-01 06:28:07|350fb826|     39| Canada|31.47|\n",
            "|2021-05-02 03:51:13|6c5822b1|     42| Canada|24.99|\n",
            "|2021-05-01 13:32:34|9a3b0c50|     48| Canada| 31.5|\n",
            "|2021-05-02 03:31:52|dd261c33|     49| Canada|18.89|\n",
            "|2021-05-01 01:43:50|94a9d9c8|     56| Canada|24.95|\n",
            "|2021-05-01 04:28:13|d1b2c7bc|     56| Canada|24.95|\n",
            "|2021-05-01 06:17:18|54067998|     56| Canada|24.95|\n",
            "|2021-05-01 16:51:17|49ca012e|     56| Canada|24.95|\n",
            "+-------------------+--------+-------+-------+-----+\n",
            "only showing top 20 rows\n",
            "\n"
          ]
        }
      ]
    },
    {
      "cell_type": "markdown",
      "metadata": {
        "id": "TOnfZz27XhjX"
      },
      "source": [
        "### Exercise 2: \n",
        "1. การซื้อทั้งหมดที่เกิดขึ้นในเดือนเมษายน มีกี่แถว\n",
        "2. การซื้อทั้งหมดที่เกิดขึ้นในเดือนสิงหาคม มีกี่แถว"
      ]
    },
    {
      "cell_type": "code",
      "metadata": {
        "id": "zgPm8dsraxNx",
        "colab": {
          "base_uri": "https://localhost:8080/"
        },
        "outputId": "908b44ef-897d-4279-9af8-4078c6557580"
      },
      "source": [
        "# Answer here\n",
        "dt.where( dt.timestamp.startswith(\"2021-04\") ).count()"
      ],
      "execution_count": null,
      "outputs": [
        {
          "output_type": "execute_result",
          "data": {
            "text/plain": [
              "0"
            ]
          },
          "metadata": {},
          "execution_count": 36
        }
      ]
    },
    {
      "cell_type": "code",
      "source": [
        "dt.where( dt.timestamp.startswith(\"2021-08\") ).count()"
      ],
      "metadata": {
        "colab": {
          "base_uri": "https://localhost:8080/"
        },
        "id": "MAvupVDBrpuW",
        "outputId": "d69d47e1-1ba6-4fb8-f2a1-cf034f095542"
      },
      "execution_count": null,
      "outputs": [
        {
          "output_type": "execute_result",
          "data": {
            "text/plain": [
              "0"
            ]
          },
          "metadata": {},
          "execution_count": 37
        }
      ]
    },
    {
      "cell_type": "markdown",
      "metadata": {
        "id": "NN3m9gpHkS5H"
      },
      "source": [
        "## Graphical EDA\n",
        "\n",
        "\n",
        "Spark ไม่ได้ถูกพัฒนามาเพื่องาน plot ข้อมูล เพราะฉะนั้นเราจะใช้ package `seaborn` `matplotlib` และ `pandas` ในการ plot ข้อมูลแทน"
      ]
    },
    {
      "cell_type": "code",
      "metadata": {
        "id": "BWu_zxdONk0o"
      },
      "source": [
        "import seaborn as sns\n",
        "import matplotlib.pyplot as plt\n",
        "import pandas as pd"
      ],
      "execution_count": null,
      "outputs": []
    },
    {
      "cell_type": "code",
      "metadata": {
        "id": "861ui21dNy-N"
      },
      "source": [
        "# แปลง Spark Dataframe เป็น Pandas Dataframe - ใช้เวลาประมาณ 6 วินาที spark จะใช้งานกับ bigdata ได้ดีกว่า\n",
        "dt_pd = dt.toPandas()"
      ],
      "execution_count": null,
      "outputs": []
    },
    {
      "cell_type": "code",
      "metadata": {
        "id": "vpF73lu_Rn-_",
        "colab": {
          "base_uri": "https://localhost:8080/",
          "height": 206
        },
        "outputId": "852909ce-79ce-4b01-90a4-370d75c379ea"
      },
      "source": [
        "# ดูตัวอย่างข้อมูล\n",
        "dt_pd.head()"
      ],
      "execution_count": null,
      "outputs": [
        {
          "output_type": "execute_result",
          "data": {
            "text/html": [
              "\n",
              "  <div id=\"df-c41f13e2-581d-4d27-817f-778296d727c8\">\n",
              "    <div class=\"colab-df-container\">\n",
              "      <div>\n",
              "<style scoped>\n",
              "    .dataframe tbody tr th:only-of-type {\n",
              "        vertical-align: middle;\n",
              "    }\n",
              "\n",
              "    .dataframe tbody tr th {\n",
              "        vertical-align: top;\n",
              "    }\n",
              "\n",
              "    .dataframe thead th {\n",
              "        text-align: right;\n",
              "    }\n",
              "</style>\n",
              "<table border=\"1\" class=\"dataframe\">\n",
              "  <thead>\n",
              "    <tr style=\"text-align: right;\">\n",
              "      <th></th>\n",
              "      <th>timestamp</th>\n",
              "      <th>user_id</th>\n",
              "      <th>book_id</th>\n",
              "      <th>country</th>\n",
              "      <th>price</th>\n",
              "    </tr>\n",
              "  </thead>\n",
              "  <tbody>\n",
              "    <tr>\n",
              "      <th>0</th>\n",
              "      <td>2021-05-01 08:03:44</td>\n",
              "      <td>824dc295</td>\n",
              "      <td>2</td>\n",
              "      <td>Israel</td>\n",
              "      <td>24.95</td>\n",
              "    </tr>\n",
              "    <tr>\n",
              "      <th>1</th>\n",
              "      <td>2021-05-02 02:48:34</td>\n",
              "      <td>f80fe106</td>\n",
              "      <td>6</td>\n",
              "      <td>Thailand</td>\n",
              "      <td>31.49</td>\n",
              "    </tr>\n",
              "    <tr>\n",
              "      <th>2</th>\n",
              "      <td>2021-05-01 16:54:57</td>\n",
              "      <td>01cb9fe0</td>\n",
              "      <td>9</td>\n",
              "      <td>Italy</td>\n",
              "      <td>29.65</td>\n",
              "    </tr>\n",
              "    <tr>\n",
              "      <th>3</th>\n",
              "      <td>2021-05-01 21:45:28</td>\n",
              "      <td>59508f47</td>\n",
              "      <td>13</td>\n",
              "      <td>South Africa</td>\n",
              "      <td>22.40</td>\n",
              "    </tr>\n",
              "    <tr>\n",
              "      <th>4</th>\n",
              "      <td>2021-05-01 14:50:52</td>\n",
              "      <td>3553ebbb</td>\n",
              "      <td>14</td>\n",
              "      <td>Canada</td>\n",
              "      <td>28.00</td>\n",
              "    </tr>\n",
              "  </tbody>\n",
              "</table>\n",
              "</div>\n",
              "      <button class=\"colab-df-convert\" onclick=\"convertToInteractive('df-c41f13e2-581d-4d27-817f-778296d727c8')\"\n",
              "              title=\"Convert this dataframe to an interactive table.\"\n",
              "              style=\"display:none;\">\n",
              "        \n",
              "  <svg xmlns=\"http://www.w3.org/2000/svg\" height=\"24px\"viewBox=\"0 0 24 24\"\n",
              "       width=\"24px\">\n",
              "    <path d=\"M0 0h24v24H0V0z\" fill=\"none\"/>\n",
              "    <path d=\"M18.56 5.44l.94 2.06.94-2.06 2.06-.94-2.06-.94-.94-2.06-.94 2.06-2.06.94zm-11 1L8.5 8.5l.94-2.06 2.06-.94-2.06-.94L8.5 2.5l-.94 2.06-2.06.94zm10 10l.94 2.06.94-2.06 2.06-.94-2.06-.94-.94-2.06-.94 2.06-2.06.94z\"/><path d=\"M17.41 7.96l-1.37-1.37c-.4-.4-.92-.59-1.43-.59-.52 0-1.04.2-1.43.59L10.3 9.45l-7.72 7.72c-.78.78-.78 2.05 0 2.83L4 21.41c.39.39.9.59 1.41.59.51 0 1.02-.2 1.41-.59l7.78-7.78 2.81-2.81c.8-.78.8-2.07 0-2.86zM5.41 20L4 18.59l7.72-7.72 1.47 1.35L5.41 20z\"/>\n",
              "  </svg>\n",
              "      </button>\n",
              "      \n",
              "  <style>\n",
              "    .colab-df-container {\n",
              "      display:flex;\n",
              "      flex-wrap:wrap;\n",
              "      gap: 12px;\n",
              "    }\n",
              "\n",
              "    .colab-df-convert {\n",
              "      background-color: #E8F0FE;\n",
              "      border: none;\n",
              "      border-radius: 50%;\n",
              "      cursor: pointer;\n",
              "      display: none;\n",
              "      fill: #1967D2;\n",
              "      height: 32px;\n",
              "      padding: 0 0 0 0;\n",
              "      width: 32px;\n",
              "    }\n",
              "\n",
              "    .colab-df-convert:hover {\n",
              "      background-color: #E2EBFA;\n",
              "      box-shadow: 0px 1px 2px rgba(60, 64, 67, 0.3), 0px 1px 3px 1px rgba(60, 64, 67, 0.15);\n",
              "      fill: #174EA6;\n",
              "    }\n",
              "\n",
              "    [theme=dark] .colab-df-convert {\n",
              "      background-color: #3B4455;\n",
              "      fill: #D2E3FC;\n",
              "    }\n",
              "\n",
              "    [theme=dark] .colab-df-convert:hover {\n",
              "      background-color: #434B5C;\n",
              "      box-shadow: 0px 1px 3px 1px rgba(0, 0, 0, 0.15);\n",
              "      filter: drop-shadow(0px 1px 2px rgba(0, 0, 0, 0.3));\n",
              "      fill: #FFFFFF;\n",
              "    }\n",
              "  </style>\n",
              "\n",
              "      <script>\n",
              "        const buttonEl =\n",
              "          document.querySelector('#df-c41f13e2-581d-4d27-817f-778296d727c8 button.colab-df-convert');\n",
              "        buttonEl.style.display =\n",
              "          google.colab.kernel.accessAllowed ? 'block' : 'none';\n",
              "\n",
              "        async function convertToInteractive(key) {\n",
              "          const element = document.querySelector('#df-c41f13e2-581d-4d27-817f-778296d727c8');\n",
              "          const dataTable =\n",
              "            await google.colab.kernel.invokeFunction('convertToInteractive',\n",
              "                                                     [key], {});\n",
              "          if (!dataTable) return;\n",
              "\n",
              "          const docLinkHtml = 'Like what you see? Visit the ' +\n",
              "            '<a target=\"_blank\" href=https://colab.research.google.com/notebooks/data_table.ipynb>data table notebook</a>'\n",
              "            + ' to learn more about interactive tables.';\n",
              "          element.innerHTML = '';\n",
              "          dataTable['output_type'] = 'display_data';\n",
              "          await google.colab.output.renderOutput(dataTable, element);\n",
              "          const docLink = document.createElement('div');\n",
              "          docLink.innerHTML = docLinkHtml;\n",
              "          element.appendChild(docLink);\n",
              "        }\n",
              "      </script>\n",
              "    </div>\n",
              "  </div>\n",
              "  "
            ],
            "text/plain": [
              "             timestamp   user_id  book_id       country  price\n",
              "0  2021-05-01 08:03:44  824dc295        2        Israel  24.95\n",
              "1  2021-05-02 02:48:34  f80fe106        6      Thailand  31.49\n",
              "2  2021-05-01 16:54:57  01cb9fe0        9         Italy  29.65\n",
              "3  2021-05-01 21:45:28  59508f47       13  South Africa  22.40\n",
              "4  2021-05-01 14:50:52  3553ebbb       14        Canada  28.00"
            ]
          },
          "metadata": {},
          "execution_count": 40
        }
      ]
    },
    {
      "cell_type": "code",
      "metadata": {
        "id": "Dw91uylC7B_x",
        "colab": {
          "base_uri": "https://localhost:8080/",
          "height": 299
        },
        "outputId": "b00eae0e-db15-4492-8bdc-18fd25ce8446"
      },
      "source": [
        "# Boxplot - แสดงการกระจายตัวของข้อมูลตัวเลข\n",
        "sns.boxplot(x = dt_pd['book_id'])"
      ],
      "execution_count": null,
      "outputs": [
        {
          "output_type": "execute_result",
          "data": {
            "text/plain": [
              "<matplotlib.axes._subplots.AxesSubplot at 0x7f0776fda090>"
            ]
          },
          "metadata": {},
          "execution_count": 41
        },
        {
          "output_type": "display_data",
          "data": {
            "image/png": "[encoded data removed]",
            "text/plain": [
              "<Figure size 432x288 with 1 Axes>"
            ]
          },
          "metadata": {
            "needs_background": "light"
          }
        }
      ]
    },
    {
      "cell_type": "code",
      "metadata": {
        "id": "IYbSz2HuO2sr",
        "colab": {
          "base_uri": "https://localhost:8080/",
          "height": 300
        },
        "outputId": "a34a7c2e-66d3-4b3f-a888-16d2df90c2a7"
      },
      "source": [
        "# Histogram - แสดงการกระจายตัวของข้อมูลตัวเลข\n",
        "# bins = จำนวน bar ที่ต้องการแสดง\n",
        "sns.histplot(dt_pd['price'], bins=10)"
      ],
      "execution_count": null,
      "outputs": [
        {
          "output_type": "execute_result",
          "data": {
            "text/plain": [
              "<matplotlib.axes._subplots.AxesSubplot at 0x7f076b9bda90>"
            ]
          },
          "metadata": {},
          "execution_count": 42
        },
        {
          "output_type": "display_data",
          "data": {
            "image/png": "[encoded data removed]",
            "text/plain": [
              "<Figure size 432x288 with 1 Axes>"
            ]
          },
          "metadata": {
            "needs_background": "light"
          }
        }
      ]
    },
    {
      "cell_type": "markdown",
      "metadata": {
        "id": "G-xTqiuGERU_"
      },
      "source": [
        "### Exercise 3: \n",
        "book_id เพิ่มขึ้นตามราคาหรือเปล่า?\n",
        "\n",
        "ลองสร้าง Plot เพื่อดูความสัมพันธ์ระหว่าง book_id กับ price"
      ]
    },
    {
      "cell_type": "code",
      "metadata": {
        "id": "t1N-03d9O83E",
        "colab": {
          "base_uri": "https://localhost:8080/",
          "height": 299
        },
        "outputId": "99b9852c-cc12-4ed1-88c6-9e07a10bf34a"
      },
      "source": [
        "# Answer here\n",
        "# sns.scatterplot(x=dt_pd['book_id'], y=dt_pd['price'])\n",
        "#sns.scatterplot(x=dt_pd.book_id, y=dt_pd.price)\n",
        "sns.scatterplot(data=dt_pd, x='book_id', y='price')"
      ],
      "execution_count": null,
      "outputs": [
        {
          "output_type": "execute_result",
          "data": {
            "text/plain": [
              "<matplotlib.axes._subplots.AxesSubplot at 0x7f0773101790>"
            ]
          },
          "metadata": {},
          "execution_count": 47
        },
        {
          "output_type": "display_data",
          "data": {
            "image/png": "[encoded data removed]",
            "text/plain": [
              "<Figure size 432x288 with 1 Axes>"
            ]
          },
          "metadata": {
            "needs_background": "light"
          }
        }
      ]
    },
    {
      "cell_type": "markdown",
      "metadata": {
        "id": "tVliQZLC0LuP"
      },
      "source": [
        "#### Bonus: สร้าง interactive chart"
      ]
    },
    {
      "cell_type": "code",
      "metadata": {
        "id": "4Bb0F-9zTI1X"
      },
      "source": [
        "# Plotly - interactive chart\n",
        "import plotly.express as px\n",
        "fig = px.scatter(dt_pd, 'book_id', 'price')\n",
        "fig.show()"
      ],
      "execution_count": null,
      "outputs": []
    },
    {
      "cell_type": "markdown",
      "metadata": {
        "id": "6InlOOw32IDS"
      },
      "source": [
        "---\n",
        "\n",
        "![](https://file.designil.com/Huzkx0+)"
      ]
    },
    {
      "cell_type": "markdown",
      "metadata": {
        "id": "fbAnv3_Rwj5l"
      },
      "source": [
        "# Step 4) Data Cleansing with Spark\n",
        "\n",
        "มาทำความสะอาดข้อมูลด้วย Spark กันเถอะ"
      ]
    },
    {
      "cell_type": "markdown",
      "metadata": {
        "id": "iXLHVsbwk08q"
      },
      "source": [
        "### แปลง Data Type\n",
        "\n",
        "ปัญหาที่เจอบ่อยที่สุดแบบหนึ่งในข้อมูล คือ **Data Type ไม่ตรงกับที่เราต้องการ**"
      ]
    },
    {
      "cell_type": "code",
      "metadata": {
        "id": "Pb7BB-e3k4g-",
        "colab": {
          "base_uri": "https://localhost:8080/"
        },
        "outputId": "78e0367f-c7b0-45d6-e9bd-2e40916da01b"
      },
      "source": [
        "# Show top 5 rows\n",
        "dt.show(5)"
      ],
      "execution_count": null,
      "outputs": [
        {
          "output_type": "stream",
          "name": "stdout",
          "text": [
            "+-------------------+--------+-------+------------+-----+\n",
            "|          timestamp| user_id|book_id|     country|price|\n",
            "+-------------------+--------+-------+------------+-----+\n",
            "|2021-05-01 08:03:44|824dc295|      2|      Israel|24.95|\n",
            "|2021-05-02 02:48:34|f80fe106|      6|    Thailand|31.49|\n",
            "|2021-05-01 16:54:57|01cb9fe0|      9|       Italy|29.65|\n",
            "|2021-05-01 21:45:28|59508f47|     13|South Africa| 22.4|\n",
            "|2021-05-01 14:50:52|3553ebbb|     14|      Canada| 28.0|\n",
            "+-------------------+--------+-------+------------+-----+\n",
            "only showing top 5 rows\n",
            "\n"
          ]
        }
      ]
    },
    {
      "cell_type": "code",
      "metadata": {
        "id": "f7gFtSr0Fbne",
        "colab": {
          "base_uri": "https://localhost:8080/"
        },
        "outputId": "0d96b987-cf0b-4aa0-bc98-7dc092a1ead7"
      },
      "source": [
        "# Show Schema\n",
        "dt.printSchema()"
      ],
      "execution_count": null,
      "outputs": [
        {
          "output_type": "stream",
          "name": "stdout",
          "text": [
            "root\n",
            " |-- timestamp: string (nullable = true)\n",
            " |-- user_id: string (nullable = true)\n",
            " |-- book_id: integer (nullable = true)\n",
            " |-- country: string (nullable = true)\n",
            " |-- price: double (nullable = true)\n",
            "\n"
          ]
        }
      ]
    },
    {
      "cell_type": "markdown",
      "metadata": {
        "id": "pNVwy-FkHDrT"
      },
      "source": [
        "จะเห็นว่า `Timestamp` ถูกอ่านเป็นข้อมูลตัวหนังสือ (String) แต่เราอยากให้มันเป็นข้อมูลวันที่และเวลา (date time) จะทำยังไงดี?\n",
        "\n",
        "ก่อนอื่น เราต้องมาดูก่อนว่าคอลัมน์ Timestamp แสดงเลขวันที่ก่อน หรือเลขเดือนก่อน (DD/MM/YYYY หรือ MM/DD/YYYY)"
      ]
    },
    {
      "cell_type": "code",
      "metadata": {
        "id": "Hu6po7nVGhj6",
        "colab": {
          "base_uri": "https://localhost:8080/"
        },
        "outputId": "89c6a7f9-0bf1-485b-d5a6-151b9f7f4aa5"
      },
      "source": [
        "dt.select(\"timestamp\").show(10)"
      ],
      "execution_count": null,
      "outputs": [
        {
          "output_type": "stream",
          "name": "stdout",
          "text": [
            "+-------------------+\n",
            "|          timestamp|\n",
            "+-------------------+\n",
            "|2021-05-01 08:03:44|\n",
            "|2021-05-02 02:48:34|\n",
            "|2021-05-01 16:54:57|\n",
            "|2021-05-01 21:45:28|\n",
            "|2021-05-01 14:50:52|\n",
            "|2021-05-01 08:41:48|\n",
            "|2021-05-01 05:51:43|\n",
            "|2021-05-01 00:01:09|\n",
            "|2021-05-01 00:21:24|\n",
            "|2021-05-01 01:34:23|\n",
            "+-------------------+\n",
            "only showing top 10 rows\n",
            "\n"
          ]
        }
      ]
    },
    {
      "cell_type": "markdown",
      "metadata": {
        "id": "s53J7rfXIvXH"
      },
      "source": [
        "เราจะมาใช้ฟังก์ชั่น to_timestamp ซึ่งอยู่ใน pyspark.sql.functions กัน\n",
        "\n",
        "Reference: https://spark.apache.org/docs/3.1.1/api/python/reference/api/pyspark.sql.functions.to_timestamp.html"
      ]
    },
    {
      "cell_type": "code",
      "metadata": {
        "id": "rnerFBErFelC",
        "colab": {
          "base_uri": "https://localhost:8080/"
        },
        "outputId": "6fae3d28-0133-467b-e433-e36fa8220905"
      },
      "source": [
        "# แปลง string เป็น datetime\n",
        "from pyspark.sql import functions as f\n",
        "\n",
        "dt_clean = dt.withColumn(\"timestamp\",\n",
        "                        f.to_timestamp(dt.timestamp, 'yyyy-MM-dd HH:mm:ss')\n",
        "                        )\n",
        "dt_clean.show()"
      ],
      "execution_count": null,
      "outputs": [
        {
          "output_type": "stream",
          "name": "stdout",
          "text": [
            "+-------------------+--------+-------+--------------------+-----+\n",
            "|          timestamp| user_id|book_id|             country|price|\n",
            "+-------------------+--------+-------+--------------------+-----+\n",
            "|2021-05-01 08:03:44|824dc295|      2|              Israel|24.95|\n",
            "|2021-05-02 02:48:34|f80fe106|      6|            Thailand|31.49|\n",
            "|2021-05-01 16:54:57|01cb9fe0|      9|               Italy|29.65|\n",
            "|2021-05-01 21:45:28|59508f47|     13|        South Africa| 22.4|\n",
            "|2021-05-01 14:50:52|3553ebbb|     14|              Canada| 28.0|\n",
            "|2021-05-01 08:41:48|ea28260a|     16|United States of ...|31.18|\n",
            "|2021-05-01 05:51:43|ff44767e|     18|United States of ...|59.99|\n",
            "|2021-05-01 00:01:09|b07799e7|     20|              Canada| 28.0|\n",
            "|2021-05-01 00:21:24|9d2e93c8|     20|             Hungary| 28.0|\n",
            "|2021-05-01 01:34:23|612db483|     20|              Sweden| 28.0|\n",
            "|2021-05-01 01:42:10|afad01ae|     20|              France| 28.0|\n",
            "|2021-05-01 03:38:00|3b68cda1|     20|              Canada| 28.0|\n",
            "|2021-05-01 04:32:25|c9a899f6|     20|United States of ...| 28.0|\n",
            "|2021-05-01 04:48:06|d15f0e77|     20|United States of ...| 28.0|\n",
            "|2021-05-01 05:00:49|032e717b|     20|              Turkey| 28.0|\n",
            "|2021-05-01 06:20:44|a8558738|     20|United States of ...| 28.0|\n",
            "|2021-05-01 06:46:35|b0ef795f|     20|         Philippines| 28.0|\n",
            "|2021-05-01 07:33:54|c46cc3da|     20|United States of ...| 28.0|\n",
            "|2021-05-01 09:14:11|54bd51eb|     20|              Brazil| 28.0|\n",
            "|2021-05-01 10:01:44|c52587cc|     20|              Canada| 28.0|\n",
            "+-------------------+--------+-------+--------------------+-----+\n",
            "only showing top 20 rows\n",
            "\n"
          ]
        }
      ]
    },
    {
      "cell_type": "code",
      "metadata": {
        "id": "Pq7sQ-h6T6cp",
        "colab": {
          "base_uri": "https://localhost:8080/"
        },
        "outputId": "93a69b7c-6df8-4f42-9021-c290b39c974b"
      },
      "source": [
        "dt_clean.printSchema()"
      ],
      "execution_count": null,
      "outputs": [
        {
          "output_type": "stream",
          "name": "stdout",
          "text": [
            "root\n",
            " |-- timestamp: timestamp (nullable = true)\n",
            " |-- user_id: string (nullable = true)\n",
            " |-- book_id: integer (nullable = true)\n",
            " |-- country: string (nullable = true)\n",
            " |-- price: double (nullable = true)\n",
            "\n"
          ]
        }
      ]
    },
    {
      "cell_type": "markdown",
      "metadata": {
        "id": "YMAQ-mXsNf1z"
      },
      "source": [
        "## BONUS: ตัวอย่างการใช้ประโยชน์จากข้อมูล Datetime"
      ]
    },
    {
      "cell_type": "code",
      "metadata": {
        "id": "NMiWFpDtJFdM",
        "colab": {
          "base_uri": "https://localhost:8080/"
        },
        "outputId": "203ef129-b509-40b3-ee07-139889dfec6c"
      },
      "source": [
        "# นับยอด transaction ช่วงครึ่งเดือนแรก ของเดือนมิถุนายน\n",
        "dt_clean.where( (f.dayofmonth(dt_clean.timestamp) <= 15) & ( f.month(dt_clean.timestamp) == 6 ) ).count()"
      ],
      "execution_count": null,
      "outputs": [
        {
          "output_type": "execute_result",
          "data": {
            "text/plain": [
              "81248"
            ]
          },
          "metadata": {},
          "execution_count": 54
        }
      ]
    },
    {
      "cell_type": "markdown",
      "metadata": {
        "id": "NlewC3HjbMty"
      },
      "source": [
        "## Anomalies Check\n",
        "\n",
        "ใช้ Spark ตามหาสิ่งที่ผิดปกติในข้อมูล"
      ]
    },
    {
      "cell_type": "markdown",
      "metadata": {
        "id": "YQmzIi6c2Ugp"
      },
      "source": [
        "### ความผิดปกติ 1) Syntactical Anomalies\n",
        "**Lexical errors** เช่น สะกดผิด"
      ]
    },
    {
      "cell_type": "markdown",
      "metadata": {
        "id": "yKKS4l0-RUJE"
      },
      "source": [
        "#### Exercise 4\n",
        "\n",
        "หาชื่อประเทศที่สะกดผิด แล้วแก้ชื่อที่สะกดผิดให้ถูก"
      ]
    },
    {
      "cell_type": "code",
      "metadata": {
        "id": "htfmeHuZ2VPo",
        "colab": {
          "base_uri": "https://localhost:8080/"
        },
        "outputId": "95ec1644-9967-4754-b5f4-c58e4e3eb530"
      },
      "source": [
        "# ใน Data set ชุดนี้ มีข้อมูลจากกี่ประเทศ\n",
        "dt_clean.select(\"country\").distinct().count()"
      ],
      "execution_count": null,
      "outputs": [
        {
          "output_type": "execute_result",
          "data": {
            "text/plain": [
              "58"
            ]
          },
          "metadata": {},
          "execution_count": 55
        }
      ]
    },
    {
      "cell_type": "code",
      "metadata": {
        "id": "K4Ei25HVQcC1",
        "colab": {
          "base_uri": "https://localhost:8080/"
        },
        "outputId": "d5ab201e-2fc7-4f2b-9a89-7e130d7fe2c3"
      },
      "source": [
        "# แทนที่ ... ด้วยจำนวนประเทศ เพื่อดูรายชื่อประเทศทั้งหมด\n",
        "# sort = ทำให้ข้อมูลเรียงตามตัวอักษร อ่านง่ายขึ้น\n",
        "# show() ถ้าไม่ใส่ตัวเลขจะขึ้นมาแค่ 20 อัน และใส่ False เพื่อให้แสดงข้อมูลในคอลัมน์แบบเต็ม ๆ (หากไม่ใส่ คอลัมน์ที่ยาวจะถูกตัดตัวหนังสือ)\n",
        "dt_clean.select(\"Country\").distinct().sort(\"Country\").show( 58, False )"
      ],
      "execution_count": null,
      "outputs": [
        {
          "output_type": "stream",
          "name": "stdout",
          "text": [
            "+------------------------+\n",
            "|Country                 |\n",
            "+------------------------+\n",
            "|Algeria                 |\n",
            "|Argentina               |\n",
            "|Australia               |\n",
            "|Austria                 |\n",
            "|Bahamas                 |\n",
            "|Belgium                 |\n",
            "|Brazil                  |\n",
            "|Canada                  |\n",
            "|China                   |\n",
            "|Colombia                |\n",
            "|Croatia                 |\n",
            "|Denmark                 |\n",
            "|Dubai                   |\n",
            "|Egypt                   |\n",
            "|Estonia                 |\n",
            "|Finland                 |\n",
            "|France                  |\n",
            "|Germany                 |\n",
            "|Greece                  |\n",
            "|Hungary                 |\n",
            "|India                   |\n",
            "|Indonesia               |\n",
            "|Ireland                 |\n",
            "|Israel                  |\n",
            "|Italy                   |\n",
            "|Jamaica                 |\n",
            "|Japan                   |\n",
            "|Japane                  |\n",
            "|Kenya                   |\n",
            "|Kuwait                  |\n",
            "|Malaysia                |\n",
            "|Maldives                |\n",
            "|Mexico                  |\n",
            "|Montenegro              |\n",
            "|Netherlands             |\n",
            "|New Zealand             |\n",
            "|Nigeria                 |\n",
            "|Norway                  |\n",
            "|Pakistan                |\n",
            "|Peru                    |\n",
            "|Philippines             |\n",
            "|Poland                  |\n",
            "|Portugal                |\n",
            "|Serbia                  |\n",
            "|Singapore               |\n",
            "|Slovakia                |\n",
            "|South Africa            |\n",
            "|South Korea             |\n",
            "|Spain                   |\n",
            "|Sweden                  |\n",
            "|Switzerland             |\n",
            "|Taiwan                  |\n",
            "|Thailand                |\n",
            "|Turkey                  |\n",
            "|United Kingdom          |\n",
            "|United States of America|\n",
            "|Vietnam                 |\n",
            "|Yemen                   |\n",
            "+------------------------+\n",
            "\n"
          ]
        }
      ]
    },
    {
      "cell_type": "markdown",
      "metadata": {
        "id": "zE0Sxc2uRzNv"
      },
      "source": [
        "มาดูกันว่าประเทศที่ชื่อผิด มีข้อมูลหน้าตาเป็นอย่างไร"
      ]
    },
    {
      "cell_type": "code",
      "metadata": {
        "id": "FSGUoi-eUl5U",
        "colab": {
          "base_uri": "https://localhost:8080/"
        },
        "outputId": "ca749519-3af2-40be-d8fa-331772ae81ae"
      },
      "source": [
        "# เปลี่ยน ... เป็นชื่อประเทศที่คุณคิดว่าผิด\n",
        "dt_clean.where(dt_clean['Country'] == 'Japane').show()"
      ],
      "execution_count": null,
      "outputs": [
        {
          "output_type": "stream",
          "name": "stdout",
          "text": [
            "+-------------------+--------+-------+-------+-----+\n",
            "|          timestamp| user_id|book_id|country|price|\n",
            "+-------------------+--------+-------+-------+-----+\n",
            "|2021-05-01 13:11:11|a904217a|   1129| Japane|29.65|\n",
            "|2021-05-02 10:27:42|a6052e97|   1466| Japane| 35.0|\n",
            "|2021-05-04 10:44:41|a0f44c26|   1497| Japane|17.49|\n",
            "|2021-05-04 05:40:46|ad0f9907|   2269| Japane|35.71|\n",
            "|2021-05-05 01:08:25|aa169f5d|   1378| Japane|59.93|\n",
            "|2021-05-04 17:42:32|a28e3c68|   1411| Japane|29.99|\n",
            "|2021-05-05 16:29:39|a909212e|   1652| Japane|24.99|\n",
            "|2021-05-06 23:10:29|a7b05d98|   1420| Japane|30.79|\n",
            "|2021-05-07 22:18:42|a169255e|   1459| Japane|25.08|\n",
            "|2021-05-08 06:06:15|ab2159d6|   1035| Japane|22.67|\n",
            "|2021-05-09 02:46:06|a6cba2fc|   1928| Japane|  7.0|\n",
            "|2021-05-09 12:12:35|a0e31842|   1358| Japane|34.99|\n",
            "|2021-05-11 16:33:19|a2bc5460|   1616| Japane|29.65|\n",
            "|2021-05-12 22:32:52|af75e4d1|   1603| Japane|18.89|\n",
            "|2021-05-12 19:14:33|a0accb45|   1934| Japane| 1.95|\n",
            "|2021-05-13 05:23:12|abfe1e79|   1368| Japane|47.93|\n",
            "|2021-05-13 01:36:34|adfae803|   1512| Japane| 28.0|\n",
            "|2021-05-16 04:30:44|a71dfe3f|   1494| Japane|48.99|\n",
            "|2021-05-17 11:14:58|a4c531fc|   1336| Japane|44.99|\n",
            "|2021-05-17 04:26:45|a33e4db6|   1418| Japane| 33.6|\n",
            "+-------------------+--------+-------+-------+-----+\n",
            "only showing top 20 rows\n",
            "\n"
          ]
        }
      ]
    },
    {
      "cell_type": "markdown",
      "metadata": {
        "id": "Vx5pu23dR7kV"
      },
      "source": [
        "ได้เวลาลองเปลี่ยนชื่อประเทศให้สะกดถูกต้อง"
      ]
    },
    {
      "cell_type": "code",
      "metadata": {
        "id": "03YDBKivjIfh"
      },
      "source": [
        "# เปลี่ยน ... เป็นชื่อประเทศที่คุณคิดว่าผิด และ ...2 เป็นชื่อประเทศที่ถูกต้อง\n",
        "from pyspark.sql.functions import when\n",
        "\n",
        "dt_clean_country = dt_clean.withColumn(\"CountryUpdate\", when(dt_clean['Country'] == 'Japane', 'Japan').otherwise(dt_clean['Country']))"
      ],
      "execution_count": null,
      "outputs": []
    },
    {
      "cell_type": "code",
      "metadata": {
        "id": "aHp2xBfIknNx",
        "colab": {
          "base_uri": "https://localhost:8080/"
        },
        "outputId": "f3b8de52-10b4-464c-e153-23a388d169ac"
      },
      "source": [
        "# ตรวจสอบข้อมูลที่แก้ไขแล้ว\n",
        "dt_clean_country.select(\"CountryUpdate\").distinct().sort(\"CountryUpdate\").show(58, False)"
      ],
      "execution_count": null,
      "outputs": [
        {
          "output_type": "stream",
          "name": "stdout",
          "text": [
            "+------------------------+\n",
            "|CountryUpdate           |\n",
            "+------------------------+\n",
            "|Algeria                 |\n",
            "|Argentina               |\n",
            "|Australia               |\n",
            "|Austria                 |\n",
            "|Bahamas                 |\n",
            "|Belgium                 |\n",
            "|Brazil                  |\n",
            "|Canada                  |\n",
            "|China                   |\n",
            "|Colombia                |\n",
            "|Croatia                 |\n",
            "|Denmark                 |\n",
            "|Dubai                   |\n",
            "|Egypt                   |\n",
            "|Estonia                 |\n",
            "|Finland                 |\n",
            "|France                  |\n",
            "|Germany                 |\n",
            "|Greece                  |\n",
            "|Hungary                 |\n",
            "|India                   |\n",
            "|Indonesia               |\n",
            "|Ireland                 |\n",
            "|Israel                  |\n",
            "|Italy                   |\n",
            "|Jamaica                 |\n",
            "|Japan                   |\n",
            "|Kenya                   |\n",
            "|Kuwait                  |\n",
            "|Malaysia                |\n",
            "|Maldives                |\n",
            "|Mexico                  |\n",
            "|Montenegro              |\n",
            "|Netherlands             |\n",
            "|New Zealand             |\n",
            "|Nigeria                 |\n",
            "|Norway                  |\n",
            "|Pakistan                |\n",
            "|Peru                    |\n",
            "|Philippines             |\n",
            "|Poland                  |\n",
            "|Portugal                |\n",
            "|Serbia                  |\n",
            "|Singapore               |\n",
            "|Slovakia                |\n",
            "|South Africa            |\n",
            "|South Korea             |\n",
            "|Spain                   |\n",
            "|Sweden                  |\n",
            "|Switzerland             |\n",
            "|Taiwan                  |\n",
            "|Thailand                |\n",
            "|Turkey                  |\n",
            "|United Kingdom          |\n",
            "|United States of America|\n",
            "|Vietnam                 |\n",
            "|Yemen                   |\n",
            "+------------------------+\n",
            "\n"
          ]
        }
      ]
    },
    {
      "cell_type": "code",
      "metadata": {
        "id": "vkNf0x8oT6HB",
        "colab": {
          "base_uri": "https://localhost:8080/"
        },
        "outputId": "6582d6c2-2590-4807-8db2-71b360c9f8ff"
      },
      "source": [
        "# ดูหน้าตาข้อมูลตอนนี้\n",
        "dt_clean_country.show()"
      ],
      "execution_count": null,
      "outputs": [
        {
          "output_type": "stream",
          "name": "stdout",
          "text": [
            "+-------------------+--------+-------+--------------------+-----+--------------------+\n",
            "|          timestamp| user_id|book_id|             country|price|       CountryUpdate|\n",
            "+-------------------+--------+-------+--------------------+-----+--------------------+\n",
            "|2021-05-01 08:03:44|824dc295|      2|              Israel|24.95|              Israel|\n",
            "|2021-05-02 02:48:34|f80fe106|      6|            Thailand|31.49|            Thailand|\n",
            "|2021-05-01 16:54:57|01cb9fe0|      9|               Italy|29.65|               Italy|\n",
            "|2021-05-01 21:45:28|59508f47|     13|        South Africa| 22.4|        South Africa|\n",
            "|2021-05-01 14:50:52|3553ebbb|     14|              Canada| 28.0|              Canada|\n",
            "|2021-05-01 08:41:48|ea28260a|     16|United States of ...|31.18|United States of ...|\n",
            "|2021-05-01 05:51:43|ff44767e|     18|United States of ...|59.99|United States of ...|\n",
            "|2021-05-01 00:01:09|b07799e7|     20|              Canada| 28.0|              Canada|\n",
            "|2021-05-01 00:21:24|9d2e93c8|     20|             Hungary| 28.0|             Hungary|\n",
            "|2021-05-01 01:34:23|612db483|     20|              Sweden| 28.0|              Sweden|\n",
            "|2021-05-01 01:42:10|afad01ae|     20|              France| 28.0|              France|\n",
            "|2021-05-01 03:38:00|3b68cda1|     20|              Canada| 28.0|              Canada|\n",
            "|2021-05-01 04:32:25|c9a899f6|     20|United States of ...| 28.0|United States of ...|\n",
            "|2021-05-01 04:48:06|d15f0e77|     20|United States of ...| 28.0|United States of ...|\n",
            "|2021-05-01 05:00:49|032e717b|     20|              Turkey| 28.0|              Turkey|\n",
            "|2021-05-01 06:20:44|a8558738|     20|United States of ...| 28.0|United States of ...|\n",
            "|2021-05-01 06:46:35|b0ef795f|     20|         Philippines| 28.0|         Philippines|\n",
            "|2021-05-01 07:33:54|c46cc3da|     20|United States of ...| 28.0|United States of ...|\n",
            "|2021-05-01 09:14:11|54bd51eb|     20|              Brazil| 28.0|              Brazil|\n",
            "|2021-05-01 10:01:44|c52587cc|     20|              Canada| 28.0|              Canada|\n",
            "+-------------------+--------+-------+--------------------+-----+--------------------+\n",
            "only showing top 20 rows\n",
            "\n"
          ]
        }
      ]
    },
    {
      "cell_type": "code",
      "metadata": {
        "id": "EXspKbmMlDEA"
      },
      "source": [
        "# เอาคอลัมน์ CountryUpdate ไปแทนที่คอลัมน์ Country\n",
        "dt_clean = dt_clean_country.drop(\"Country\").withColumnRenamed('CountryUpdate', 'Country')"
      ],
      "execution_count": null,
      "outputs": []
    },
    {
      "cell_type": "code",
      "metadata": {
        "id": "1UP2l5g-VkFJ",
        "colab": {
          "base_uri": "https://localhost:8080/"
        },
        "outputId": "d3788623-0fe9-45cc-9509-dbaace12e0ab"
      },
      "source": [
        "# ดูหน้าตาข้อมูล\n",
        "dt_clean.show()"
      ],
      "execution_count": null,
      "outputs": [
        {
          "output_type": "stream",
          "name": "stdout",
          "text": [
            "+-------------------+--------+-------+-----+--------------------+\n",
            "|          timestamp| user_id|book_id|price|             Country|\n",
            "+-------------------+--------+-------+-----+--------------------+\n",
            "|2021-05-01 08:03:44|824dc295|      2|24.95|              Israel|\n",
            "|2021-05-02 02:48:34|f80fe106|      6|31.49|            Thailand|\n",
            "|2021-05-01 16:54:57|01cb9fe0|      9|29.65|               Italy|\n",
            "|2021-05-01 21:45:28|59508f47|     13| 22.4|        South Africa|\n",
            "|2021-05-01 14:50:52|3553ebbb|     14| 28.0|              Canada|\n",
            "|2021-05-01 08:41:48|ea28260a|     16|31.18|United States of ...|\n",
            "|2021-05-01 05:51:43|ff44767e|     18|59.99|United States of ...|\n",
            "|2021-05-01 00:01:09|b07799e7|     20| 28.0|              Canada|\n",
            "|2021-05-01 00:21:24|9d2e93c8|     20| 28.0|             Hungary|\n",
            "|2021-05-01 01:34:23|612db483|     20| 28.0|              Sweden|\n",
            "|2021-05-01 01:42:10|afad01ae|     20| 28.0|              France|\n",
            "|2021-05-01 03:38:00|3b68cda1|     20| 28.0|              Canada|\n",
            "|2021-05-01 04:32:25|c9a899f6|     20| 28.0|United States of ...|\n",
            "|2021-05-01 04:48:06|d15f0e77|     20| 28.0|United States of ...|\n",
            "|2021-05-01 05:00:49|032e717b|     20| 28.0|              Turkey|\n",
            "|2021-05-01 06:20:44|a8558738|     20| 28.0|United States of ...|\n",
            "|2021-05-01 06:46:35|b0ef795f|     20| 28.0|         Philippines|\n",
            "|2021-05-01 07:33:54|c46cc3da|     20| 28.0|United States of ...|\n",
            "|2021-05-01 09:14:11|54bd51eb|     20| 28.0|              Brazil|\n",
            "|2021-05-01 10:01:44|c52587cc|     20| 28.0|              Canada|\n",
            "+-------------------+--------+-------+-----+--------------------+\n",
            "only showing top 20 rows\n",
            "\n"
          ]
        }
      ]
    },
    {
      "cell_type": "markdown",
      "metadata": {
        "id": "s2T8jBXEUAEz"
      },
      "source": [
        "#### จบ Exercise 4"
      ]
    },
    {
      "cell_type": "markdown",
      "metadata": {
        "id": "-kyrqLYF2YjO"
      },
      "source": [
        "### ความผิดปกติ 2) Semantic Anomalies\n",
        "\n",
        "**Integrity constraints**: ค่าอยู่นอกเหนือขอบเขตของค่าที่รับได้ เช่น\n",
        "- user_id: ค่าจะต้องเป็นตัวเลขหรือตัวหนังสือ 8 ตัวอักษร"
      ]
    },
    {
      "cell_type": "code",
      "metadata": {
        "id": "Iasmydx2TEYG",
        "colab": {
          "base_uri": "https://localhost:8080/"
        },
        "outputId": "7155c6de-2800-4664-a322-eba65846ecf7"
      },
      "source": [
        "# ดูว่าข้อมูล user_id ตอนนี้หน้าตาเป็นอย่างไร\n",
        "dt_clean.select(\"user_id\").show(10)"
      ],
      "execution_count": null,
      "outputs": [
        {
          "output_type": "stream",
          "name": "stdout",
          "text": [
            "+--------+\n",
            "| user_id|\n",
            "+--------+\n",
            "|824dc295|\n",
            "|f80fe106|\n",
            "|01cb9fe0|\n",
            "|59508f47|\n",
            "|3553ebbb|\n",
            "|ea28260a|\n",
            "|ff44767e|\n",
            "|b07799e7|\n",
            "|9d2e93c8|\n",
            "|612db483|\n",
            "+--------+\n",
            "only showing top 10 rows\n",
            "\n"
          ]
        }
      ]
    },
    {
      "cell_type": "code",
      "metadata": {
        "id": "ZVtj_wvpsdn4",
        "colab": {
          "base_uri": "https://localhost:8080/"
        },
        "outputId": "17e1eef2-94b8-4574-8e7c-614b6ba230e6"
      },
      "source": [
        "# นับจำนวน user_id ทั้งหมด\n",
        "dt_clean.select(\"user_id\").count()"
      ],
      "execution_count": null,
      "outputs": [
        {
          "output_type": "execute_result",
          "data": {
            "text/plain": [
              "500000"
            ]
          },
          "metadata": {},
          "execution_count": 69
        }
      ]
    },
    {
      "cell_type": "markdown",
      "metadata": {
        "id": "QzMCAOg5WlyX"
      },
      "source": [
        "#### Exercise 5\n",
        "\n",
        "หาว่า user_id ตรงตามรูปแบบที่เราต้องการมั้ย และแทนที่ด้วยค่าที่ใกล้เคียงถ้าไม่ตรง"
      ]
    },
    {
      "cell_type": "markdown",
      "metadata": {
        "id": "XaViXptRXJXQ"
      },
      "source": [
        "ดูว่า user_id ตรงตามรูปแบบที่เราต้องการ มีกี่แถว\n",
        "\n",
        "คำใบ้: ใช้เว็บไซต์ https://www.regex101.com เพื่อสร้าง Regular Expression ตามรูปแบบที่เราต้องการ"
      ]
    },
    {
      "cell_type": "code",
      "metadata": {
        "id": "i3H6sWVsrSn-",
        "colab": {
          "base_uri": "https://localhost:8080/"
        },
        "outputId": "67002b67-cb39-4c96-bc63-566299c5cd9b"
      },
      "source": [
        "# แทนที่ ... ด้วย Regular Expression ของรูปแบบ user_id ที่เราต้องการ\n",
        "# คำใบ้: ใน Regular Expression ที่เราต้องการ มี ^ นำหน้า และลงท้ายด้วย $\n",
        "dt_clean.where(dt_clean[\"user_id\"].rlike(\"^[a-z0-9]{8}$\")).count()"
      ],
      "execution_count": null,
      "outputs": [
        {
          "output_type": "execute_result",
          "data": {
            "text/plain": [
              "499996"
            ]
          },
          "metadata": {},
          "execution_count": 71
        }
      ]
    },
    {
      "cell_type": "markdown",
      "metadata": {
        "id": "F6zGICZpXqlu"
      },
      "source": [
        "มาลองดูข้อมูลที่ไม่ถูกต้องบ้าง ว่าหน้าตาเป็นแบบไหน"
      ]
    },
    {
      "cell_type": "markdown",
      "metadata": {
        "id": "1LrPP5bgGFIi"
      },
      "source": [
        "![](https://file.designil.com/MmVhZf+)"
      ]
    },
    {
      "cell_type": "code",
      "metadata": {
        "id": "5tE-VcSQXWzp",
        "colab": {
          "base_uri": "https://localhost:8080/"
        },
        "outputId": "997b3fc5-465a-4200-c12c-01f74e64a8d5"
      },
      "source": [
        "# คำเตือน: Cell นี้อาจจะใช้เวลาประมาณ 15 วินาที\n",
        "\n",
        "# แทนที่ ... ด้วย Regular Expression ของรูปแบบ user_id ที่เราต้องการ\n",
        "dt_correct_userid = dt_clean.filter(dt_clean[\"user_id\"].rlike(\"^[a-z0-9]{8}$\"))\n",
        "dt_incorrect_userid = dt_clean.subtract(dt_correct_userid)\n",
        "\n",
        "dt_incorrect_userid.show(10)"
      ],
      "execution_count": null,
      "outputs": [
        {
          "output_type": "stream",
          "name": "stdout",
          "text": [
            "+-------------------+----------+-------+-----+--------------------+\n",
            "|          timestamp|   user_id|book_id|price|             Country|\n",
            "+-------------------+----------+-------+-----+--------------------+\n",
            "|2021-05-01 14:41:20|      null|    516|27.37|              Brazil|\n",
            "|2021-06-30 02:27:00|      null|   1390|27.99|               Japan|\n",
            "|2021-06-19 16:00:22|ca86d17200|   2269|35.71|United States of ...|\n",
            "|2021-07-15 18:53:09|ca86d17200|    322|30.79|United States of ...|\n",
            "+-------------------+----------+-------+-----+--------------------+\n",
            "\n"
          ]
        }
      ]
    },
    {
      "cell_type": "markdown",
      "metadata": {
        "id": "38ekkpo7XyDG"
      },
      "source": [
        "มาทำการแก้ไข user_id นี้ให้ถูกต้องกันเถอะ (ตัวที่เป็น null ยังไม่ต้องแก้ไข)"
      ]
    },
    {
      "cell_type": "code",
      "metadata": {
        "id": "g2SAQYLuuKgX"
      },
      "source": [
        "# แทนค่าที่ผิด ด้วยค่าที่ถูกต้อง (โค้ดจาก Exercise 4)\n",
        "dt_clean_userid = dt_clean.withColumn(\"userid_update\",\n",
        "                                      when(dt_clean['user_id'] == 'ca86d17200' , 'ca86d172').otherwise(dt_clean['user_id'])\n",
        "                                      )"
      ],
      "execution_count": null,
      "outputs": []
    },
    {
      "cell_type": "code",
      "metadata": {
        "id": "2Ko7m6mbwJJj",
        "colab": {
          "base_uri": "https://localhost:8080/"
        },
        "outputId": "943cf134-44c1-4961-bbf1-719e65552d24"
      },
      "source": [
        "# ตรวจสอบผลลัพธ์\n",
        "dt_correct_userid = dt_clean_userid.filter(dt_clean_userid[\"user_id\"].rlike(\"^[a-z0-9]{8}$\"))\n",
        "dt_incorrect_userid = dt_clean_userid.subtract(dt_correct_userid)\n",
        "\n",
        "dt_incorrect_userid.show(10)"
      ],
      "execution_count": null,
      "outputs": [
        {
          "output_type": "stream",
          "name": "stdout",
          "text": [
            "+-------------------+----------+-------+-----+--------------------+-------------+\n",
            "|          timestamp|   user_id|book_id|price|             Country|userid_update|\n",
            "+-------------------+----------+-------+-----+--------------------+-------------+\n",
            "|2021-05-01 14:41:20|      null|    516|27.37|              Brazil|         null|\n",
            "|2021-06-19 16:00:22|ca86d17200|   2269|35.71|United States of ...|     ca86d172|\n",
            "|2021-06-30 02:27:00|      null|   1390|27.99|               Japan|         null|\n",
            "|2021-07-15 18:53:09|ca86d17200|    322|30.79|United States of ...|     ca86d172|\n",
            "+-------------------+----------+-------+-----+--------------------+-------------+\n",
            "\n"
          ]
        }
      ]
    },
    {
      "cell_type": "code",
      "metadata": {
        "id": "m6LoL8etxNSO"
      },
      "source": [
        "# เอาคอลัมน์ user_id_update ไปแทนที่ user_id (โค้ดจาก Exercise 4)\n",
        "dt_clean = dt_clean_country.drop(\"user_id\").withColumnRenamed('userid_update', 'user_id')"
      ],
      "execution_count": null,
      "outputs": []
    },
    {
      "cell_type": "markdown",
      "metadata": {
        "id": "eLS42g75bgOR"
      },
      "source": [
        "#### จบ Exercise 5"
      ]
    },
    {
      "cell_type": "markdown",
      "metadata": {
        "id": "4kCf3LsX2b8L"
      },
      "source": [
        "### ความผิดปกติ 3) Missing values\n",
        "\n",
        "การเช็คและแก้ไข Missing Values (หากจำเป็น)\n",
        "\n",
        "ค่า Missing Value คือ ค่าที่ว่างเปล่า\n",
        "\n",
        "เราจะรู้ได้ยังไงว่าคอลัมน์ไหนมีค่าว่างเปล่ากี่ค่า"
      ]
    },
    {
      "cell_type": "code",
      "metadata": {
        "id": "T11c7iUs24Cu",
        "colab": {
          "base_uri": "https://localhost:8080/"
        },
        "outputId": "422ad7a0-da13-4843-f89c-95c43cdd0ff4"
      },
      "source": [
        "# วิธีที่ 1 ในการเช็ค Missing Value\n",
        "# ใช้เทคนิค List Comprehension - ทบทวนได้ใน Pre-course Python https://school.datath.com/courses/road-to-data-engineer-2/contents/6129b780564a8\n",
        "# เช่น [ print(i) for i in [1,2,3] ]\n",
        "\n",
        "# col = คำสั่ง Spark ในการเลือกคอลัมน์\n",
        "# sum = คำสั่ง Spark ในการคิดผลรวม\n",
        "from pyspark.sql.functions import col, sum\n",
        "\n",
        "dt_nulllist = dt_clean.select([ sum(col(colname).isNull().cast(\"int\")).alias(colname) for colname in dt_clean.columns ])\n",
        "dt_nulllist.show()"
      ],
      "execution_count": null,
      "outputs": [
        {
          "output_type": "stream",
          "name": "stdout",
          "text": [
            "+---------+-------+-----+-------+-------+\n",
            "|timestamp|book_id|price|Country|user_id|\n",
            "+---------+-------+-----+-------+-------+\n",
            "|        0|      0|    0|      0|      2|\n",
            "+---------+-------+-----+-------+-------+\n",
            "\n"
          ]
        }
      ]
    },
    {
      "cell_type": "code",
      "metadata": {
        "id": "qH7jfJTZdFwk",
        "colab": {
          "base_uri": "https://localhost:8080/"
        },
        "outputId": "59de9f01-689a-431a-f576-c984e12a0180"
      },
      "source": [
        "# วิธีที่ 2 ในการเช็ค Missing Value - จาก Exercise 1 โค้ดสะอาดกว่ามาก แต่ต้องมาบวกลบเอง\n",
        "dt_clean.summary(\"count\").show()"
      ],
      "execution_count": null,
      "outputs": [
        {
          "output_type": "stream",
          "name": "stdout",
          "text": [
            "+-------+-------+------+-------+-------+\n",
            "|summary|book_id| price|Country|user_id|\n",
            "+-------+-------+------+-------+-------+\n",
            "|  count| 500000|500000| 500000| 499998|\n",
            "+-------+-------+------+-------+-------+\n",
            "\n"
          ]
        }
      ]
    },
    {
      "cell_type": "code",
      "metadata": {
        "id": "8Bi3ql4PzXae",
        "colab": {
          "base_uri": "https://localhost:8080/"
        },
        "outputId": "345d6909-28b4-4781-da94-10d4502f5c31"
      },
      "source": [
        "# ดูช้อมูลว่าแถวไหนมี user_id เป็นค่าว่างเปล่า (โค้ดเดียวกับ Exercise 1)\n",
        "\n",
        "dt_clean.where( dt_clean.user_id.isNull() ).show()"
      ],
      "execution_count": null,
      "outputs": [
        {
          "output_type": "stream",
          "name": "stdout",
          "text": [
            "+-------------------+-------+-----+-------+-------+\n",
            "|          timestamp|book_id|price|Country|user_id|\n",
            "+-------------------+-------+-----+-------+-------+\n",
            "|2021-05-01 14:41:20|    516|27.37| Brazil|   null|\n",
            "|2021-06-30 02:27:00|   1390|27.99|  Japan|   null|\n",
            "+-------------------+-------+-----+-------+-------+\n",
            "\n"
          ]
        }
      ]
    },
    {
      "cell_type": "markdown",
      "metadata": {
        "id": "Xp3uwpf-Ty8Y"
      },
      "source": [
        "#### Exercise 6:\n",
        "ทางทีม Data Analyst แจ้งว่าอยากให้เราแทน user_id ที่เป็น NULL ด้วย 00000000 ไปเลย"
      ]
    },
    {
      "cell_type": "code",
      "metadata": {
        "id": "wnwxPdTHTyS5"
      },
      "source": [
        "# Answer here\n",
        "dt_clean_user_id = dt_clean.withColumn(\"userid_update\",\n",
        "                                      when(dt_clean.user_id.isNull() , '00000000').otherwise(dt_clean['user_id'])\n",
        "                                      )\n",
        "\n"
      ],
      "execution_count": null,
      "outputs": []
    },
    {
      "cell_type": "code",
      "source": [
        "dt_clean = dt_clean_user_id.drop(\"user_id\").withColumnRenamed('userid_update', 'user_id')"
      ],
      "metadata": {
        "id": "TEw-DmBw89mq"
      },
      "execution_count": null,
      "outputs": []
    },
    {
      "cell_type": "code",
      "metadata": {
        "id": "eJUNqs_1e1SY",
        "colab": {
          "base_uri": "https://localhost:8080/"
        },
        "outputId": "1ffd84af-88fd-4a02-e20d-bde3032df4aa"
      },
      "source": [
        "# เช็คว่า user ID ที่เป็น NULL หายไปแล้วจริงมั้ย\n",
        "dt_clean.where( dt_clean.user_id.isNull() ).show()"
      ],
      "execution_count": null,
      "outputs": [
        {
          "output_type": "stream",
          "name": "stdout",
          "text": [
            "+---------+-------+-----+-------+-------+\n",
            "|timestamp|book_id|price|Country|user_id|\n",
            "+---------+-------+-----+-------+-------+\n",
            "+---------+-------+-----+-------+-------+\n",
            "\n"
          ]
        }
      ]
    },
    {
      "cell_type": "markdown",
      "metadata": {
        "id": "G9WmtPhUOJHi"
      },
      "source": [
        "### ความผิดปกติ 4) Outliers:\n",
        "\n",
        "ข้อมูลที่สูงหรือต่ำผิดปกติจากข้อมูลส่วนใหญ่\n",
        "\n",
        "มาลองใช้ Boxplot ในการหาค่า Outlier ของราคาหนังสือ"
      ]
    },
    {
      "cell_type": "code",
      "metadata": {
        "id": "Hz_NYXoNfmBM"
      },
      "source": [
        "# Cell นี้จะรันค่อนข้างนาน เนื่องจากข้อมูลมีเยอะ\n",
        "dt_clean_pd = dt_clean.toPandas()"
      ],
      "execution_count": null,
      "outputs": []
    },
    {
      "cell_type": "code",
      "metadata": {
        "id": "ejSTm4SvfOeX",
        "colab": {
          "base_uri": "https://localhost:8080/",
          "height": 297
        },
        "outputId": "bafa00a6-8f67-4c90-8fe6-08b4408291b7"
      },
      "source": [
        "sns.boxplot(x = dt_clean_pd['price'])"
      ],
      "execution_count": null,
      "outputs": [
        {
          "output_type": "execute_result",
          "data": {
            "text/plain": [
              "<matplotlib.axes._subplots.AxesSubplot at 0x7f075c60a190>"
            ]
          },
          "metadata": {},
          "execution_count": 108
        },
        {
          "output_type": "display_data",
          "data": {
            "image/png": "[encoded data removed]",
            "text/plain": [
              "<Figure size 432x288 with 1 Axes>"
            ]
          },
          "metadata": {
            "needs_background": "light"
          }
        }
      ]
    },
    {
      "cell_type": "markdown",
      "metadata": {
        "id": "iI-MxExWfsXH"
      },
      "source": [
        "เห็นได้ว่ามีหนังสือบางเล่มที่ราคาสูงกว่าปกติไปเยอะมาก ลองมาดูกันว่าหนังสือ book_id อะไรบ้าง ที่ราคาเกิน $80"
      ]
    },
    {
      "cell_type": "code",
      "metadata": {
        "id": "qv--yXibgjal",
        "colab": {
          "base_uri": "https://localhost:8080/"
        },
        "outputId": "ce87ada8-7e52-486a-a1b3-69a3d0f74de5"
      },
      "source": [
        "dt_clean.where( dt_clean.price > 80 ).select(\"book_id\").distinct().show()"
      ],
      "execution_count": null,
      "outputs": [
        {
          "output_type": "stream",
          "name": "stdout",
          "text": [
            "+-------+\n",
            "|book_id|\n",
            "+-------+\n",
            "|    635|\n",
            "+-------+\n",
            "\n"
          ]
        }
      ]
    },
    {
      "cell_type": "markdown",
      "metadata": {
        "id": "rK7tOP_OgsOh"
      },
      "source": [
        "เราสามารถนำ Book_ID อันนี้ไปเช็คต่อกับแหล่งข้อมูลได้ ว่าเป็นหนังสืออะไร และราคาเกิน $80 ผิดปกติมั้ย\n",
        "\n",
        "ถ้าเอาไปเช็คในข้อมูลจาก Workshop 1 ก็จะพบว่า Book_ID = 635 คือ หนังสือชื่อ \"The Power Broker\"\n",
        "https://www.audible.com/pd/The-Power-Broker-Audiobook/B0051JH67K?ipRedirectOverride=true&overrideBaseCountry=true&pf_rd_p=2756bc30-e1e4-4174-bb22-bce00b971761&pf_rd_r=MF7KC1JQF3A6GK2ET8XM"
      ]
    },
    {
      "cell_type": "markdown",
      "metadata": {
        "id": "Tt7qEffui33t"
      },
      "source": [
        "![](https://file.designil.com/7h1WIp+)"
      ]
    },
    {
      "cell_type": "markdown",
      "metadata": {
        "id": "JJij1Esri-r0"
      },
      "source": [
        "The Power Broker มีราคา $84 จริง และเป็นหนังสือเสียงที่มีความยาวถึง 66 ชั่วโมง\n",
        "\n",
        "**ในที่นี้ ถือว่าเป็น Outlier จริง แต่ไม่ได้เป็นข้อมูลที่ผิด จึงไม่ต้องแก้อะไร**"
      ]
    },
    {
      "cell_type": "markdown",
      "metadata": {
        "id": "a5DtVcoRUsFp"
      },
      "source": [
        "### มาลอง Clean ข้อมูลด้วย Spark SQL\n",
        "\n",
        "![alt text](https://cdn-std.droplr.net/files/acc_513973/881iHw)"
      ]
    },
    {
      "cell_type": "code",
      "metadata": {
        "id": "KMwaNBsSuygq",
        "colab": {
          "base_uri": "https://localhost:8080/"
        },
        "outputId": "db108ca3-b22b-4279-a457-ef0b08d33010"
      },
      "source": [
        "# แปลงข้อมูลจาก Spark DataFrame ให้เป็น TempView ก่อน\n",
        "dt.createOrReplaceTempView(\"data\")\n",
        "dt_sql = spark.sql(\"SELECT * FROM data\")\n",
        "dt_sql.show()"
      ],
      "execution_count": null,
      "outputs": [
        {
          "output_type": "stream",
          "name": "stdout",
          "text": [
            "+-------------------+--------+-------+--------------------+-----+\n",
            "|          timestamp| user_id|book_id|             country|price|\n",
            "+-------------------+--------+-------+--------------------+-----+\n",
            "|2021-05-01 08:03:44|824dc295|      2|              Israel|24.95|\n",
            "|2021-05-02 02:48:34|f80fe106|      6|            Thailand|31.49|\n",
            "|2021-05-01 16:54:57|01cb9fe0|      9|               Italy|29.65|\n",
            "|2021-05-01 21:45:28|59508f47|     13|        South Africa| 22.4|\n",
            "|2021-05-01 14:50:52|3553ebbb|     14|              Canada| 28.0|\n",
            "|2021-05-01 08:41:48|ea28260a|     16|United States of ...|31.18|\n",
            "|2021-05-01 05:51:43|ff44767e|     18|United States of ...|59.99|\n",
            "|2021-05-01 00:01:09|b07799e7|     20|              Canada| 28.0|\n",
            "|2021-05-01 00:21:24|9d2e93c8|     20|             Hungary| 28.0|\n",
            "|2021-05-01 01:34:23|612db483|     20|              Sweden| 28.0|\n",
            "|2021-05-01 01:42:10|afad01ae|     20|              France| 28.0|\n",
            "|2021-05-01 03:38:00|3b68cda1|     20|              Canada| 28.0|\n",
            "|2021-05-01 04:32:25|c9a899f6|     20|United States of ...| 28.0|\n",
            "|2021-05-01 04:48:06|d15f0e77|     20|United States of ...| 28.0|\n",
            "|2021-05-01 05:00:49|032e717b|     20|              Turkey| 28.0|\n",
            "|2021-05-01 06:20:44|a8558738|     20|United States of ...| 28.0|\n",
            "|2021-05-01 06:46:35|b0ef795f|     20|         Philippines| 28.0|\n",
            "|2021-05-01 07:33:54|c46cc3da|     20|United States of ...| 28.0|\n",
            "|2021-05-01 09:14:11|54bd51eb|     20|              Brazil| 28.0|\n",
            "|2021-05-01 10:01:44|c52587cc|     20|              Canada| 28.0|\n",
            "+-------------------+--------+-------+--------------------+-----+\n",
            "only showing top 20 rows\n",
            "\n"
          ]
        }
      ]
    },
    {
      "cell_type": "code",
      "metadata": {
        "id": "kQLzG7jz06vU",
        "colab": {
          "base_uri": "https://localhost:8080/"
        },
        "outputId": "a2464377-42f6-4ced-f27a-d96f9e93cb39"
      },
      "source": [
        "# ลองแปลงโค้ดสำหรับลิสต์ชื่อประเทศ Exercise 4 เป็น SQL\n",
        "dt_sql_country = spark.sql(\"\"\"\n",
        "SELECT distinct country\n",
        "FROM data\n",
        "ORDER BY country\n",
        "\"\"\")\n",
        "dt_sql_country.show(100)"
      ],
      "execution_count": null,
      "outputs": [
        {
          "output_type": "stream",
          "name": "stdout",
          "text": [
            "+--------------------+\n",
            "|             country|\n",
            "+--------------------+\n",
            "|             Algeria|\n",
            "|           Argentina|\n",
            "|           Australia|\n",
            "|             Austria|\n",
            "|             Bahamas|\n",
            "|             Belgium|\n",
            "|              Brazil|\n",
            "|              Canada|\n",
            "|               China|\n",
            "|            Colombia|\n",
            "|             Croatia|\n",
            "|             Denmark|\n",
            "|               Dubai|\n",
            "|               Egypt|\n",
            "|             Estonia|\n",
            "|             Finland|\n",
            "|              France|\n",
            "|             Germany|\n",
            "|              Greece|\n",
            "|             Hungary|\n",
            "|               India|\n",
            "|           Indonesia|\n",
            "|             Ireland|\n",
            "|              Israel|\n",
            "|               Italy|\n",
            "|             Jamaica|\n",
            "|               Japan|\n",
            "|              Japane|\n",
            "|               Kenya|\n",
            "|              Kuwait|\n",
            "|            Malaysia|\n",
            "|            Maldives|\n",
            "|              Mexico|\n",
            "|          Montenegro|\n",
            "|         Netherlands|\n",
            "|         New Zealand|\n",
            "|             Nigeria|\n",
            "|              Norway|\n",
            "|            Pakistan|\n",
            "|                Peru|\n",
            "|         Philippines|\n",
            "|              Poland|\n",
            "|            Portugal|\n",
            "|              Serbia|\n",
            "|           Singapore|\n",
            "|            Slovakia|\n",
            "|        South Africa|\n",
            "|         South Korea|\n",
            "|               Spain|\n",
            "|              Sweden|\n",
            "|         Switzerland|\n",
            "|              Taiwan|\n",
            "|            Thailand|\n",
            "|              Turkey|\n",
            "|      United Kingdom|\n",
            "|United States of ...|\n",
            "|             Vietnam|\n",
            "|               Yemen|\n",
            "+--------------------+\n",
            "\n"
          ]
        }
      ]
    },
    {
      "cell_type": "code",
      "metadata": {
        "id": "qFnsr05vYnOi",
        "colab": {
          "base_uri": "https://localhost:8080/"
        },
        "outputId": "1db82f9d-5e0d-46bd-c0a9-db8f0010eacf"
      },
      "source": [
        "# ลองแปลงโค้ดสำหรับแทนที่ชื่อประเทศ จาก Exercise 4 เป็น SQL\n",
        "dt_sql_result = spark.sql(\"\"\"\n",
        "SELECT timestamp, user_id, book_id,\n",
        "  CASE WHEN country = 'Japane' THEN 'Japan' ELSE country END AS country,\n",
        "price\n",
        "FROM data\n",
        "\"\"\")\n",
        "dt_sql_result.show()"
      ],
      "execution_count": null,
      "outputs": [
        {
          "output_type": "stream",
          "name": "stdout",
          "text": [
            "+-------------------+--------+-------+--------------------+-----+\n",
            "|          timestamp| user_id|book_id|             country|price|\n",
            "+-------------------+--------+-------+--------------------+-----+\n",
            "|2021-05-01 08:03:44|824dc295|      2|              Israel|24.95|\n",
            "|2021-05-02 02:48:34|f80fe106|      6|            Thailand|31.49|\n",
            "|2021-05-01 16:54:57|01cb9fe0|      9|               Italy|29.65|\n",
            "|2021-05-01 21:45:28|59508f47|     13|        South Africa| 22.4|\n",
            "|2021-05-01 14:50:52|3553ebbb|     14|              Canada| 28.0|\n",
            "|2021-05-01 08:41:48|ea28260a|     16|United States of ...|31.18|\n",
            "|2021-05-01 05:51:43|ff44767e|     18|United States of ...|59.99|\n",
            "|2021-05-01 00:01:09|b07799e7|     20|              Canada| 28.0|\n",
            "|2021-05-01 00:21:24|9d2e93c8|     20|             Hungary| 28.0|\n",
            "|2021-05-01 01:34:23|612db483|     20|              Sweden| 28.0|\n",
            "|2021-05-01 01:42:10|afad01ae|     20|              France| 28.0|\n",
            "|2021-05-01 03:38:00|3b68cda1|     20|              Canada| 28.0|\n",
            "|2021-05-01 04:32:25|c9a899f6|     20|United States of ...| 28.0|\n",
            "|2021-05-01 04:48:06|d15f0e77|     20|United States of ...| 28.0|\n",
            "|2021-05-01 05:00:49|032e717b|     20|              Turkey| 28.0|\n",
            "|2021-05-01 06:20:44|a8558738|     20|United States of ...| 28.0|\n",
            "|2021-05-01 06:46:35|b0ef795f|     20|         Philippines| 28.0|\n",
            "|2021-05-01 07:33:54|c46cc3da|     20|United States of ...| 28.0|\n",
            "|2021-05-01 09:14:11|54bd51eb|     20|              Brazil| 28.0|\n",
            "|2021-05-01 10:01:44|c52587cc|     20|              Canada| 28.0|\n",
            "+-------------------+--------+-------+--------------------+-----+\n",
            "only showing top 20 rows\n",
            "\n"
          ]
        }
      ]
    },
    {
      "cell_type": "code",
      "metadata": {
        "id": "z4dAJncSmK1g"
      },
      "source": [
        "# เช็คผลลัพธ์ว่าถูกจริงมั้ย\n",
        "dt_sql_result.select(\"country\").distinct().sort(\"country\").show(58, False)"
      ],
      "execution_count": null,
      "outputs": []
    },
    {
      "cell_type": "markdown",
      "metadata": {
        "id": "iv0YK6cFgSiB"
      },
      "source": [
        "#### Exercise 7\n",
        "\n",
        "ทำ Exercise 5 ด้วย SQL\n",
        "\n",
        "คำใบ้: ใช้คำสั่ง RLIKE ใน SQL เพื่อตรวจเช็ครูปแบบ Regular Expression ได้"
      ]
    },
    {
      "cell_type": "code",
      "metadata": {
        "id": "2QHlrKnPgMRh",
        "colab": {
          "base_uri": "https://localhost:8080/"
        },
        "outputId": "86c54c1d-6a5c-4482-a00a-63a7bf588830"
      },
      "source": [
        "# Answer here: เช็คว่ามีข้อมูล user_id ที่ไม่เป็นตัวหนังสือหรือตัวเลข 8 หลักมั้ย\n",
        "dt_sql_result = spark.sql(\"\"\"\n",
        "SELECT *\n",
        "FROM data\n",
        "WHERE user_id NOT RLIKE \"^[a-z0-9]{8}$\"\n",
        "\"\"\")\n",
        "dt_sql_result.show()"
      ],
      "execution_count": null,
      "outputs": [
        {
          "output_type": "stream",
          "name": "stdout",
          "text": [
            "+-------------------+----------+-------+--------------------+-----+\n",
            "|          timestamp|   user_id|book_id|             country|price|\n",
            "+-------------------+----------+-------+--------------------+-----+\n",
            "|2021-06-19 16:00:22|ca86d17200|   2269|United States of ...|35.71|\n",
            "|2021-07-15 18:53:09|ca86d17200|    322|United States of ...|30.79|\n",
            "+-------------------+----------+-------+--------------------+-----+\n",
            "\n"
          ]
        }
      ]
    },
    {
      "cell_type": "code",
      "metadata": {
        "id": "cgCm2SiKgMP7",
        "colab": {
          "base_uri": "https://localhost:8080/"
        },
        "outputId": "754ead9f-cc9f-4019-b119-498a21d71e9f"
      },
      "source": [
        "# Answer here: แทนค่า (คำใบ้: ใช้ CASE WHEN)\n",
        "dt_sql_uid_result = spark.sql(\"\"\"\n",
        "SELECT timestamp, \n",
        "CASE WHEN user_id = 'ca86d17200' THEN 'ca86d172' ELSE user_id END AS user_id, \n",
        "book_id, country, price\n",
        "FROM data\n",
        "\"\"\")\n",
        "dt_sql_uid_result.show()"
      ],
      "execution_count": null,
      "outputs": [
        {
          "output_type": "stream",
          "name": "stdout",
          "text": [
            "+-------------------+--------+-------+--------------------+-----+\n",
            "|          timestamp| user_id|book_id|             country|price|\n",
            "+-------------------+--------+-------+--------------------+-----+\n",
            "|2021-05-01 08:03:44|824dc295|      2|              Israel|24.95|\n",
            "|2021-05-02 02:48:34|f80fe106|      6|            Thailand|31.49|\n",
            "|2021-05-01 16:54:57|01cb9fe0|      9|               Italy|29.65|\n",
            "|2021-05-01 21:45:28|59508f47|     13|        South Africa| 22.4|\n",
            "|2021-05-01 14:50:52|3553ebbb|     14|              Canada| 28.0|\n",
            "|2021-05-01 08:41:48|ea28260a|     16|United States of ...|31.18|\n",
            "|2021-05-01 05:51:43|ff44767e|     18|United States of ...|59.99|\n",
            "|2021-05-01 00:01:09|b07799e7|     20|              Canada| 28.0|\n",
            "|2021-05-01 00:21:24|9d2e93c8|     20|             Hungary| 28.0|\n",
            "|2021-05-01 01:34:23|612db483|     20|              Sweden| 28.0|\n",
            "|2021-05-01 01:42:10|afad01ae|     20|              France| 28.0|\n",
            "|2021-05-01 03:38:00|3b68cda1|     20|              Canada| 28.0|\n",
            "|2021-05-01 04:32:25|c9a899f6|     20|United States of ...| 28.0|\n",
            "|2021-05-01 04:48:06|d15f0e77|     20|United States of ...| 28.0|\n",
            "|2021-05-01 05:00:49|032e717b|     20|              Turkey| 28.0|\n",
            "|2021-05-01 06:20:44|a8558738|     20|United States of ...| 28.0|\n",
            "|2021-05-01 06:46:35|b0ef795f|     20|         Philippines| 28.0|\n",
            "|2021-05-01 07:33:54|c46cc3da|     20|United States of ...| 28.0|\n",
            "|2021-05-01 09:14:11|54bd51eb|     20|              Brazil| 28.0|\n",
            "|2021-05-01 10:01:44|c52587cc|     20|              Canada| 28.0|\n",
            "+-------------------+--------+-------+--------------------+-----+\n",
            "only showing top 20 rows\n",
            "\n"
          ]
        }
      ]
    },
    {
      "cell_type": "code",
      "metadata": {
        "id": "GZUucKv1q8hB",
        "colab": {
          "base_uri": "https://localhost:8080/"
        },
        "outputId": "45980a1a-7c20-49f4-f609-e2dfb64bd283"
      },
      "source": [
        "# เช็คว่าข้อมูลที่ผิด หายไปหรือยัง\n",
        "dt_sql_uid_result.where( dt_sql_uid_result.user_id == 'ca86d17200' ).show()"
      ],
      "execution_count": null,
      "outputs": [
        {
          "output_type": "stream",
          "name": "stdout",
          "text": [
            "+---------+-------+-------+-------+-----+\n",
            "|timestamp|user_id|book_id|country|price|\n",
            "+---------+-------+-------+-------+-----+\n",
            "+---------+-------+-------+-------+-----+\n",
            "\n"
          ]
        }
      ]
    },
    {
      "cell_type": "markdown",
      "metadata": {
        "id": "ZZ7-Up-N2N_B"
      },
      "source": [
        "---\n",
        "\n",
        "![](https://file.designil.com/TmpQfK+)"
      ]
    },
    {
      "cell_type": "markdown",
      "metadata": {
        "id": "lu3WQ4g8UBra"
      },
      "source": [
        "# Step 5) Save data เป็น CSV\n",
        "\n",
        "โดยปกติแล้ว Spark จะทำการ Save ออกมาเป็นหลายไฟล์ เพราะใช้หลายเครื่องในการประมวลผล"
      ]
    },
    {
      "cell_type": "code",
      "metadata": {
        "id": "w6ZMEZ-8UIEJ"
      },
      "source": [
        "# เซฟเป็น partitioned files (ใช้ multiple workers)\n",
        "dt_clean.write.csv('Cleaned_data.csv', header = True)"
      ],
      "execution_count": null,
      "outputs": []
    },
    {
      "cell_type": "markdown",
      "metadata": {
        "id": "mcPc7I-BYckx"
      },
      "source": [
        "เราสามารถบังคับให้ Spark เซฟมาเป็นไฟล์เดียวได้"
      ]
    },
    {
      "cell_type": "code",
      "metadata": {
        "id": "AzMterYlWA5X"
      },
      "source": [
        "# เซฟเป็น 1 ไฟล์ (ใช้ single worker)\n",
        "dt_clean.coalesce(1).write.csv('Cleaned_Data_Single.csv', header = True)"
      ],
      "execution_count": null,
      "outputs": []
    },
    {
      "cell_type": "markdown",
      "metadata": {
        "id": "cHJ93iwFY_rS"
      },
      "source": [
        "ยังไม่จบแค่นี้ เรามีแถมอีกเรื่อง...\n",
        "\n",
        "### Bonus: วิธีอ่านไฟล์ที่มีหลาย Part\n",
        "เช่น กรณีนี้ที่เรามี\n",
        "- /content/Cleaned_Data.csv/part-00000-....csv\n",
        "- /content/Cleaned_Data.csv/part-00001-....csv"
      ]
    },
    {
      "cell_type": "code",
      "metadata": {
        "id": "AJN1WjglaKK4"
      },
      "source": [
        "all_parts = spark.read.csv('/content/Cleaned_data.csv/part-*.csv', header = True, inferSchema = True)"
      ],
      "execution_count": null,
      "outputs": []
    },
    {
      "cell_type": "code",
      "metadata": {
        "id": "cxgNMXk_Ss_3",
        "colab": {
          "base_uri": "https://localhost:8080/"
        },
        "outputId": "6ead1ae4-ad75-456c-9a38-8371e5b78240"
      },
      "source": [
        "all_parts.count()"
      ],
      "execution_count": null,
      "outputs": [
        {
          "output_type": "execute_result",
          "data": {
            "text/plain": [
              "500000"
            ]
          },
          "metadata": {},
          "execution_count": 122
        }
      ]
    },
    {
      "cell_type": "code",
      "metadata": {
        "id": "sBpcOjJLr95Q",
        "colab": {
          "base_uri": "https://localhost:8080/"
        },
        "outputId": "cf53ac14-3e32-463a-9f5c-41a9da50db7e"
      },
      "source": [
        "print('จบ Workshop 2 แล้วคร้าบ 😍')"
      ],
      "execution_count": null,
      "outputs": [
        {
          "output_type": "stream",
          "name": "stdout",
          "text": [
            "จบ Workshop 2 แล้วคร้าบ 😍\n"
          ]
        }
      ]
    }
  ]
}