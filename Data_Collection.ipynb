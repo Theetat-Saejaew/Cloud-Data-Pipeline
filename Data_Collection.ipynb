{
  "nbformat": 4,
  "nbformat_minor": 0,
  "metadata": {
    "colab": {
      "name": "Data Collection",
      "provenance": [],
      "collapsed_sections": [],
      "toc_visible": true,
      "include_colab_link": true
    },
    "kernelspec": {
      "name": "python3",
      "display_name": "Python 3"
    }
  },
  "cells": [
    {
      "cell_type": "markdown",
      "metadata": {
        "id": "view-in-github",
        "colab_type": "text"
      },
      "source": [
        "<a href=\"https://colab.research.google.com/github/Theetat-Saejaew/Cloud-Data-Pipeline/blob/main/Data_Collection.ipynb\" target=\"_parent\"><img src=\"https://colab.research.google.com/assets/colab-badge.svg\" alt=\"Open In Colab\"/></a>"
      ]
    },
    {
      "cell_type": "markdown",
      "metadata": {
        "id": "IRz06BvaPvio"
      },
      "source": [
        "# Data Collection: มาเก็บรวบรวมข้อมูลจากแหล่งต่าง ๆ (DB & REST API) กันเถอะ!"
      ]
    },
    {
      "cell_type": "markdown",
      "metadata": {
        "id": "TiWl_xR-ffPb"
      },
      "source": [
        "# อ่านข้อมูลจาก MySQL database"
      ]
    },
    {
      "cell_type": "markdown",
      "metadata": {
        "id": "RwfG6lNbiO4d"
      },
      "source": [
        "## Install PyMySQL \n",
        "ซึ่งเป็น package สำหรับเชื่อมต่อ MySQL database"
      ]
    },
    {
      "cell_type": "code",
      "metadata": {
        "id": "8drOFF__cMAH"
      },
      "source": [
        "! pip install pymysql"
      ],
      "execution_count": null,
      "outputs": []
    },
    {
      "cell_type": "markdown",
      "metadata": {
        "id": "Cq7EWelaiWlO"
      },
      "source": [
        "## Config DB credential: การใช้ config สำหรับเชื่อต่อ database\n",
        "\n",
        " "
      ]
    },
    {
      "cell_type": "code",
      "metadata": {
        "id": "0olv0dV9lCp_"
      },
      "source": [
        "# ขั้นนตอนแรกสำหรับการต่อ database คือการสร้าง connection ซึ่งต้องอาศัย config ต่าง ๆ เช่น Host (IP address), Username, Password ในการเชื่อมต่อ\n",
        "import os\n",
        "\n",
        "class Config:\n",
        "  MYSQL_HOST = 'xxxxxx'\n",
        "  MYSQL_PORT = xxxxxx              # default สำหรับ port MySQL\n",
        "  MYSQL_USER = 'xxxxxx'\n",
        "  MYSQL_PASSWORD = 'xxxxxx'\n",
        "  MYSQL_DB = 'xxxxxx'\n",
        "  MYSQL_CHARSET = 'xxxxxx'"
      ],
      "execution_count": null,
      "outputs": []
    },
    {
      "cell_type": "code",
      "metadata": {
        "id": "HfL6r9jNJCJO"
      },
      "source": [
        "# ทดลอง print จาก config\n",
        "print(Config.MYSQL_PORT)"
      ],
      "execution_count": null,
      "outputs": []
    },
    {
      "cell_type": "markdown",
      "metadata": {
        "id": "Me00m6uBleCK"
      },
      "source": [
        "## Connect to DB\n",
        "หลังจากที่มี Credential ของ database แล้วก็สร้าง connection โดยการ connect ไปที่ DB ด้วย Config ของเรา"
      ]
    },
    {
      "cell_type": "code",
      "metadata": {
        "id": "nKxxuMyOltG3"
      },
      "source": [
        "import pymysql\n",
        "\n",
        "# Connect to the database\n",
        "connection = pymysql.connect(host=Config.MYSQL_HOST,\n",
        "                             port=Config.MYSQL_PORT,\n",
        "                             user=Config.MYSQL_USER,\n",
        "                             password=Config.MYSQL_PASSWORD,\n",
        "                             db=Config.MYSQL_DB,\n",
        "                             charset=Config.MYSQL_CHARSET,\n",
        "                             cursorclass=pymysql.cursors.DictCursor)"
      ],
      "execution_count": null,
      "outputs": []
    },
    {
      "cell_type": "code",
      "metadata": {
        "id": "7Bw2Mkqkw0tJ"
      },
      "source": [
        "connection"
      ],
      "execution_count": null,
      "outputs": []
    },
    {
      "cell_type": "markdown",
      "metadata": {
        "id": "iF4KnPH2phaN"
      },
      "source": [
        "## Query Table"
      ]
    },
    {
      "cell_type": "markdown",
      "metadata": {
        "id": "KvOOSVUpKju8"
      },
      "source": [
        "การใช้ `with connection.cursor() as cursor:` จะจัดการ scope ของการเรียกใช้งาน cursor ให้  ในที่นี้ถือว่าได้สร้างตัวแปร cursor แล้วในคำสั่ง with และ ไม่ต้องใช้ cursor.close()"
      ]
    },
    {
      "cell_type": "code",
      "metadata": {
        "id": "Iemb303DmFG7"
      },
      "source": [
        "with connection.cursor() as cursor:\n",
        "  # query ข้อมูลจาก table audible_data\n",
        "  cursor.execute(\"SELECT * FROM audible_data;\")\n",
        "  result = cursor.fetchall()\n",
        "\n",
        "print(\"number of rows: \", len(result))"
      ],
      "execution_count": null,
      "outputs": []
    },
    {
      "cell_type": "code",
      "metadata": {
        "id": "YEg74urRAAhY"
      },
      "source": [
        "# สามารถดูผลลัพธ์ที่อ่าน result มาได้ \n",
        "result"
      ],
      "execution_count": null,
      "outputs": []
    },
    {
      "cell_type": "code",
      "metadata": {
        "id": "PxYakxNTx9vW"
      },
      "source": [
        "# ดูประเภทของ result\n",
        "type(result)"
      ],
      "execution_count": null,
      "outputs": []
    },
    {
      "cell_type": "markdown",
      "metadata": {
        "id": "7irKAggdHzj6"
      },
      "source": [
        "ประเภทของตัวแปร คือ list (เป็น list ของ dictionary แต่ละบรรทัด)"
      ]
    },
    {
      "cell_type": "markdown",
      "source": [
        "## Convert to Pandas"
      ],
      "metadata": {
        "id": "b23QTEF_cFhg"
      }
    },
    {
      "cell_type": "code",
      "metadata": {
        "id": "dQn-mQ49so4L"
      },
      "source": [
        "import pandas as pd"
      ],
      "execution_count": null,
      "outputs": []
    },
    {
      "cell_type": "code",
      "metadata": {
        "id": "OKbf9_qCts4D"
      },
      "source": [
        "audible_data = pd.DataFrame(result)"
      ],
      "execution_count": null,
      "outputs": []
    },
    {
      "cell_type": "code",
      "metadata": {
        "id": "-iP4wQdryP-0"
      },
      "source": [
        "type(audible_data)"
      ],
      "execution_count": null,
      "outputs": []
    },
    {
      "cell_type": "code",
      "metadata": {
        "id": "O8TWjiZvtzzd"
      },
      "source": [
        "audible_data"
      ],
      "execution_count": null,
      "outputs": []
    },
    {
      "cell_type": "markdown",
      "metadata": {
        "id": "5_jXlZvpBZto"
      },
      "source": [
        "**ข้อสังเกต**\n",
        "ตัวเลขข้างหน้าสุดของ pandas ที่เป็น 0 ถึง (จำนวน rows - 1) ในที่นี้คือ 0 - 2268 เรียกว่า **index** \n",
        "\n",
        "index คือ สิ่งที่ pandas เอาไว้ใช้เก็บ key ในแต่ละ row เอาไว้ โดยถ้าไม่กำหนด index มาก็จะสร้างให้เหมือนในตัวอย่าง\n",
        "\n",
        "แต่ในที่นี้เรามี Book_ID ที่เป็นตัวเลย unique ประจำแถวอยู่แล้ว สามารถกำหนด index เป็น Book_ID ได้ เพื่อลดความซ้ำซ้อน"
      ]
    },
    {
      "cell_type": "code",
      "metadata": {
        "id": "Ca8QYJemCRVt"
      },
      "source": [
        "audible_data.set_index(\"Book_ID\")"
      ],
      "execution_count": null,
      "outputs": []
    },
    {
      "cell_type": "markdown",
      "metadata": {
        "id": "lrNjBPE5CxvQ"
      },
      "source": [
        "เท่านี้ก็สามารถ เอา Book_ID มาเป็น index ได้แล้ว\n",
        "\n",
        "ถ้าไม่อยาก set_index() ทีหลังก็ สามารถใส่ `index_col=\"Book_ID\"` เพิ่มเข้าไปในบรรทัดที่สร้าง DataFrame เลยได้ \n",
        "```\n",
        "audible_data = pd.DataFrame(result), index_col=\"Book_ID\"\n",
        "``` "
      ]
    },
    {
      "cell_type": "markdown",
      "metadata": {
        "id": "_qWCVkkS_ZoD"
      },
      "source": [
        "## อีกวิธีหนึ่งในการ query โดยใช้ Pandas สะดวกมาก ๆ"
      ]
    },
    {
      "cell_type": "markdown",
      "metadata": {
        "id": "tFuu3phyBEln"
      },
      "source": [
        "แต่ว่า เนื่องจากว่า table เรามีสอง table เรามาดูอีกวิธีหนึ่งที่สะดวกขึ้น โดยใช้ `read_sql()` ของ pandas"
      ]
    },
    {
      "cell_type": "code",
      "metadata": {
        "id": "52fe0B9ekPxC"
      },
      "source": [
        "sql = \"SELECT * FROM audible_transaction\"\n",
        "audible_transaction = pd.read_sql(sql, connection)\n",
        "audible_transaction"
      ],
      "execution_count": null,
      "outputs": []
    },
    {
      "cell_type": "markdown",
      "metadata": {
        "id": "0gQKH9qlM2tM"
      },
      "source": [
        "# Join table: audible_transaction & audible_data"
      ]
    },
    {
      "cell_type": "markdown",
      "metadata": {
        "id": "iDQaUsMwNDEa"
      },
      "source": [
        "ใน transaction dataframe เราจะไม่เห็นราคาและชื่อสินค้า ถ้าเราอยากรู้ว่าแต่ละ transaction มีจำนวนเงินเท่าไร จึงต้อง merge data รวมกับ dataframe ของ audible_data \n",
        "\n",
        "คีย์ที่ใช้ในการ merge คือ\n",
        "- audible_transaction: `book_id`\n",
        "- audible_data: `Book_ID`"
      ]
    },
    {
      "cell_type": "code",
      "metadata": {
        "id": "A14bNzsmDv2T"
      },
      "source": [
        "transaction = audible_transaction.merge(audible_data, how=\"left\", left_on=\"book_id\", right_on=\"Book_ID\")"
      ],
      "execution_count": null,
      "outputs": []
    },
    {
      "cell_type": "markdown",
      "metadata": {
        "id": "Xx_1jYGoGICJ"
      },
      "source": [
        "ดูผลลัพธ์จากการ join "
      ]
    },
    {
      "cell_type": "code",
      "metadata": {
        "id": "y5GLAftnGF72"
      },
      "source": [
        "transaction"
      ],
      "execution_count": null,
      "outputs": []
    },
    {
      "cell_type": "markdown",
      "metadata": {
        "id": "oo9VV8oWNJG_"
      },
      "source": [
        "ตอนนี้เราได้ข้อมูล transaction มาแล้ว แต่ว่าข้อมูล price เป็น USD (แถมยังเป็น string ที่มี $ ด้วย) \n",
        "\n",
        "ในส่วนถัดไป เราจะมาอ่าน data จาก API แปลงค่าเงิน เพื่อแปลงเป็นเงินบาท ตาม rate ของแต่ละวันในอดีตกัน ʕ•́ᴥ•̀ʔ"
      ]
    },
    {
      "cell_type": "markdown",
      "metadata": {
        "id": "vni1aTvqe1dY"
      },
      "source": [
        "\n",
        "\n",
        "---\n",
        "\n",
        "\n",
        "# Get data from REST API"
      ]
    },
    {
      "cell_type": "markdown",
      "metadata": {
        "id": "9TJU3-dCl1_D"
      },
      "source": [
        "หลังจากต่อกับ Database ได้แล้ว ก็อ่าน data จาก REST API กัน"
      ]
    },
    {
      "cell_type": "markdown",
      "metadata": {
        "id": "K5NLiqJDcNSS"
      },
      "source": [
        "Package `requests` ใช้สำหรับการเรียกใช้ REST API\n",
        "\n",
        "\n",
        "วิธีการ install: `pip install requests`"
      ]
    },
    {
      "cell_type": "code",
      "metadata": {
        "id": "OFIraFVkb2g3"
      },
      "source": [
        "import requests"
      ],
      "execution_count": null,
      "outputs": []
    },
    {
      "cell_type": "markdown",
      "metadata": {
        "id": "0qE0ieb6b7oe"
      },
      "source": [
        "\n",
        "\n",
        "## Requests library\n",
        "สามารถศึกษาวิธีการสร้าง request และการใช้งาน package `requests` [ได้ที่นี่](https://requests.readthedocs.io/en/master/)"
      ]
    },
    {
      "cell_type": "code",
      "metadata": {
        "id": "mID4KWhzcinC"
      },
      "source": [
        "url = \"---\"\n",
        "# ต้องการผลลัพธ์ให้อยู่ในรูปแบบของ dictionary ที่ชื่อว่า result_conversion_rate\n",
        "r = requests.get(url)\n",
        "result_conversion_rate = r.json()\n"
      ],
      "execution_count": null,
      "outputs": []
    },
    {
      "cell_type": "code",
      "source": [
        "result_conversion_rate"
      ],
      "metadata": {
        "id": "4sekxHGioFGS"
      },
      "execution_count": null,
      "outputs": []
    },
    {
      "cell_type": "markdown",
      "metadata": {
        "id": "KbGeUEVXR5Ye"
      },
      "source": [
        "มาเช็คประเภทข้อมูล"
      ]
    },
    {
      "cell_type": "code",
      "metadata": {
        "id": "qgIGR8KoQOdB",
        "colab": {
          "base_uri": "https://localhost:8080/"
        },
        "outputId": "434bc932-aae5-43b3-9301-cf61db5176f5"
      },
      "source": [
        "print(type(result_conversion_rate))\n",
        "assert isinstance(result_conversion_rate, dict) #assert เป็นการเช็คว่าเป็นจริงหรือไม่"
      ],
      "execution_count": null,
      "outputs": [
        {
          "output_type": "stream",
          "name": "stdout",
          "text": [
            "<class 'dict'>\n"
          ]
        }
      ]
    },
    {
      "cell_type": "markdown",
      "metadata": {
        "id": "Rxp9qo9OvbfO"
      },
      "source": [
        " ## Convert to Pandas\n",
        " แปลงกันอีกครั้งหนึ่ง ʕ•́ᴥ•̀ʔ"
      ]
    },
    {
      "cell_type": "code",
      "metadata": {
        "id": "QNcga24QusdA"
      },
      "source": [
        "conversion_rate = pd.DataFrame(result_conversion_rate)"
      ],
      "execution_count": null,
      "outputs": []
    },
    {
      "cell_type": "code",
      "metadata": {
        "id": "5sOYWtW3icvF"
      },
      "source": [
        "conversion_rate"
      ],
      "execution_count": null,
      "outputs": []
    },
    {
      "cell_type": "markdown",
      "metadata": {
        "id": "2BSBl2N3qhXk"
      },
      "source": [
        "แปลงจาก index เป็น column date ธรรมดาเพื่อความสะดวกในการ join กับ table transaction"
      ]
    },
    {
      "cell_type": "code",
      "metadata": {
        "id": "-RqNiXKmJDhC"
      },
      "source": [
        "conversion_rate = conversion_rate.reset_index().rename(columns={\"index\": \"date\"})\n",
        "conversion_rate[:3]"
      ],
      "execution_count": null,
      "outputs": []
    },
    {
      "cell_type": "markdown",
      "metadata": {
        "id": "-YEnRnb7vOER"
      },
      "source": [
        "# Join the data"
      ]
    },
    {
      "cell_type": "markdown",
      "metadata": {
        "id": "QEGJeMebvTXD"
      },
      "source": [
        "ในตอนนี้เราจะนำข้อมูลการซื้อขายและข้อมูล Rate การแปลงค่าเงิน เราจะรวมข้อมูลจากทั้งสอง Dataframe มารวมกัน\n",
        "\n",
        "เราจะนำข้อมูลจากทั้งสองมารวมกันผ่าน column date ใน transaction และ date ใน conversion_rate \n",
        "\n",
        "แต่ถ้าสังเกตดี ๆ แล้วจะพบว่า timestamp ใน retail จะเก็บข้อมูลในรูปแบบ timestamp ส่วน date ใน conversion_rate จะเก็บข้อมูลในรูปแบบ date (ที่เป็น string) เท่านั้น"
      ]
    },
    {
      "cell_type": "code",
      "metadata": {
        "id": "3mLbBR-e17Js"
      },
      "source": [
        "transaction"
      ],
      "execution_count": null,
      "outputs": []
    },
    {
      "cell_type": "code",
      "metadata": {
        "id": "jizZTTbblbC-"
      },
      "source": [
        "# ก็อปปี้ column timestamp เก็บเอาไว้ใน column ใหม่ชื่อ date เพื่อที่จะแปลงวันที่เป็น date เพื่อที่จะสามารถนำมา join กับข้อมูลค่าเงินได้\n",
        "transaction['date'] = transaction['timestamp']\n",
        "transaction"
      ],
      "execution_count": null,
      "outputs": []
    },
    {
      "cell_type": "code",
      "metadata": {
        "id": "ns3DWsatNnA5"
      },
      "source": [
        "# แปลงให้จาก timestamp เป็น date ในทั้ง 2 dataframe (transaction, conversion_rate)\n",
        "transaction['date'] = pd.to_datetime(transaction['date']).dt.date\n",
        "conversion_rate['date'] = pd.to_datetime(conversion_rate['date']).dt.date\n",
        "transaction.head()"
      ],
      "execution_count": null,
      "outputs": []
    },
    {
      "cell_type": "code",
      "metadata": {
        "id": "qzQvG2XB9map"
      },
      "source": [
        "# ผลลัพธ์สุดท้ายตั้งชื่อว่า final_df\n",
        "final_df = transaction.merge(conversion_rate, how=\"left\", left_on=\"date\", right_on=\"date\")\n",
        "final_df"
      ],
      "execution_count": null,
      "outputs": []
    },
    {
      "cell_type": "markdown",
      "metadata": {
        "id": "L2nPyz7aBcHq"
      },
      "source": [
        "แต่ตอนนี้ column Price เรายังเป็น string (มีเครื่องหมาย $ อยู่ ต้องเอาออก)\n",
        "ในที่นี้จะใช้ function apply ของ DataFrame ภายใน apply จะเขียนในรูปแบบของ function หรือเป็น lambda function คือ function ที่สร้างขึ้นมา เพื่อประมวลผลในแต่ละแถว\n",
        "\n",
        "สุดท้าย แปลงประเภทตัวแปลง เป็น float เพื่อรองรับ จำนวนที่มีทศนิยม"
      ]
    },
    {
      "cell_type": "code",
      "metadata": {
        "id": "fs0l_UgQrCGP"
      },
      "source": [
        "final_df[\"Price\"] = final_df.apply(lambda x: x[\"Price\"].replace(\"$\",\"\"), axis=1)\n",
        "final_df[\"Price\"] = final_df[\"Price\"].astype(float) #astype แปลงเป็น float"
      ],
      "execution_count": null,
      "outputs": []
    },
    {
      "cell_type": "code",
      "metadata": {
        "id": "zA0bwCBfrdYX"
      },
      "source": [
        "final_df"
      ],
      "execution_count": null,
      "outputs": []
    },
    {
      "cell_type": "markdown",
      "metadata": {
        "id": "p3MRdJ0hQuVm"
      },
      "source": [
        "พอ join ข้อมูลได้แล้ว เราก็ มา คูณ currency conversion กัน (Price * convertsion_rate)"
      ]
    },
    {
      "cell_type": "code",
      "metadata": {
        "id": "VzoKQqnGQ7cO"
      },
      "source": [
        "final_df[\"THBPrice\"] = final_df[\"Price\"] * final_df[\"conversion_rate\"]\n",
        "final_df"
      ],
      "execution_count": null,
      "outputs": []
    },
    {
      "cell_type": "markdown",
      "metadata": {
        "id": "owFg2Y2PBg8n"
      },
      "source": [
        "อีกวิธีหนึ่ง"
      ]
    },
    {
      "cell_type": "code",
      "metadata": {
        "id": "aBiTd2kl4ILZ"
      },
      "source": [
        "def convert_rate(price, rate):\n",
        "  return price * rate\n",
        "\n",
        "final_df[\"THBPrice\"] = final_df.apply(lambda x: x[\"Price\"] * x[\"conversion_rate\"], axis=1)\n",
        "final_df\n",
        "\n",
        "#ใช้ function\n",
        "# final_df[\"THBPrice\"] = final_df.apply(lambda x: convert_rate(x[\"Price\"], x[\"conversion_rate\"]), axis=1)"
      ],
      "execution_count": null,
      "outputs": []
    },
    {
      "cell_type": "markdown",
      "metadata": {
        "id": "q4gmiyNzJCvP"
      },
      "source": [
        "สามารถ drop column ที่ไม่จำเป็นต้องใช้ได้ เช่น date ที่ซ้ำซ้อนกับ timestamp\n",
        "\n",
        "axis = 1 หมายถึง drop column (ถ้า axis=0 จะใช้ drop row ได้)\n"
      ]
    },
    {
      "cell_type": "code",
      "metadata": {
        "id": "kxymm_7KJDtt"
      },
      "source": [
        "final_df = final_df.drop(\"date\", axis=1)"
      ],
      "execution_count": null,
      "outputs": []
    },
    {
      "cell_type": "code",
      "source": [
        "final_df "
      ],
      "metadata": {
        "id": "2N1iCaDyu2Na"
      },
      "execution_count": null,
      "outputs": []
    },
    {
      "cell_type": "markdown",
      "metadata": {
        "id": "wtek5AhSwXDi"
      },
      "source": [
        "## Save to CSV"
      ]
    },
    {
      "cell_type": "markdown",
      "metadata": {
        "id": "ghd6H6VvO36W"
      },
      "source": [
        "เซฟ final_df เป็นไฟล์ csv\n",
        "โดยปกติ pandas จะเซฟ index (0,1,2,3) ติดมาให้ด้วย ถ้าไม่ต้องการจะต้องใส่ `index=False`"
      ]
    },
    {
      "cell_type": "code",
      "metadata": {
        "id": "LNsNcinqTDfg"
      },
      "source": [
        "final_df.to_csv('output.csv',index=False)"
      ],
      "execution_count": null,
      "outputs": []
    },
    {
      "cell_type": "markdown",
      "metadata": {
        "id": "RS8OduWmOUJ8"
      },
      "source": [
        "หรือสามารถเปิดดูไฟล์ด้วย bash command `head` ได้ด้วย"
      ]
    },
    {
      "cell_type": "code",
      "metadata": {
        "id": "fA70nQj_OgUc"
      },
      "source": [
        "!head output.csv"
      ],
      "execution_count": null,
      "outputs": []
    }
  ]
}